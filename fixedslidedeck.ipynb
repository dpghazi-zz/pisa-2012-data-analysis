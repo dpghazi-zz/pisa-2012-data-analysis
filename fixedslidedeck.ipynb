{
 "cells": [
  {
   "cell_type": "code",
   "execution_count": null,
   "metadata": {
    "slideshow": {
     "slide_type": "skip"
    }
   },
   "outputs": [],
   "source": []
  },
  {
   "cell_type": "markdown",
   "metadata": {
    "slideshow": {
     "slide_type": "slide"
    }
   },
   "source": [
    "# PISA 2012 Data Analysis "
   ]
  },
  {
   "cell_type": "markdown",
   "metadata": {
    "slideshow": {
     "slide_type": "subslide"
    }
   },
   "source": [
    "## Prepared by  Donald Ghazi"
   ]
  },
  {
   "cell_type": "markdown",
   "metadata": {
    "slideshow": {
     "slide_type": "slide"
    }
   },
   "source": [
    "## Dataset Description"
   ]
  },
  {
   "cell_type": "markdown",
   "metadata": {
    "slideshow": {
     "slide_type": "subslide"
    }
   },
   "source": [
    "### PISA  (Programme for International Student Assessment)"
   ]
  },
  {
   "cell_type": "markdown",
   "metadata": {
    "slideshow": {
     "slide_type": "subslide"
    }
   },
   "source": [
    "\"PISA is a survey of students' skills and knowledge as they approach the end of compulsory education. It is not a conventional school test. Rather than examining how well students have learned the school curriculum, it looks at how well prepared they are for life beyond school.\"\n",
    "\n",
    "\"Around 510,000 students in 65 economies took part in the PISA 2012 assessment of reading, mathematics and science representing about 28 million 15-year-olds globally. Of those economies, 44 took part in an assessment of creative problem solving and 18 in an assessment of financial literacy.\"\n",
    "\n",
    "Source: https://docs.google.com/document/d/e/2PACX-1vQmkX4iOT6Rcrin42vslquX2_wQCjIa_hbwD0xmxrERPSOJYDtpNc_3wwK_p9_KpOsfA6QVyEHdxxq7/pub?embedded=True"
   ]
  },
  {
   "cell_type": "markdown",
   "metadata": {
    "slideshow": {
     "slide_type": "subslide"
    }
   },
   "source": [
    "#### For this project, I was really interested to see what kind of variables I will be working with because I was informed that the file size is rather large and there's an extensive list of dictionary list that wasn't explained well prior to embarking on this project. Furthermore, as this is an official survey study that was conducted by a research institute, I knew that it will be challenging, but if I my dataframe was clean and tidy, I can be as creative as I want in my insights and visualization section."
   ]
  },
  {
   "cell_type": "markdown",
   "metadata": {
    "slideshow": {
     "slide_type": "subslide"
    }
   },
   "source": [
    "#### As always, we want to gather out datasource and this time. In the following step, I'm running Jupyter Notebook from my our server and uploaded the files that I donwloaded from the Udacity's server. It did take a bit since the files are rather large."
   ]
  },
  {
   "cell_type": "markdown",
   "metadata": {
    "slideshow": {
     "slide_type": "skip"
    }
   },
   "source": [
    "## Gathering Data"
   ]
  },
  {
   "cell_type": "code",
   "execution_count": 1,
   "metadata": {
    "slideshow": {
     "slide_type": "skip"
    }
   },
   "outputs": [],
   "source": [
    "# import packages \n",
    "import pandas as pd\n",
    "import numpy as np\n",
    "import matplotlib.pyplot as plt\n",
    "%matplotlib inline"
   ]
  },
  {
   "cell_type": "code",
   "execution_count": 2,
   "metadata": {
    "slideshow": {
     "slide_type": "skip"
    }
   },
   "outputs": [],
   "source": [
    "# import PISA 2012 data\n",
    "pisa_2012 = pd.read_csv(\"/Users/donaldghazi/Desktop/pisa2012.csv\",encoding='latin1',low_memory=False)"
   ]
  },
  {
   "cell_type": "code",
   "execution_count": 3,
   "metadata": {
    "slideshow": {
     "slide_type": "skip"
    }
   },
   "outputs": [],
   "source": [
    "# import PISA 2012 Dictionary data \n",
    "pisa_dict_2012 = pd.read_csv(\"/Users/donaldghazi/Desktop/pisadict2012.csv\",encoding='latin1',low_memory=False)"
   ]
  },
  {
   "cell_type": "markdown",
   "metadata": {
    "slideshow": {
     "slide_type": "skip"
    }
   },
   "source": [
    "## Assessing Data"
   ]
  },
  {
   "cell_type": "markdown",
   "metadata": {
    "slideshow": {
     "slide_type": "skip"
    }
   },
   "source": [
    "#### Looking at the first few rows of the dataframe is always a good start, but I wanted to get a bigger picture of the dataset and try to understand what these variables may mean and how I would like to organize them prior to cleaning. "
   ]
  },
  {
   "cell_type": "code",
   "execution_count": 4,
   "metadata": {
    "slideshow": {
     "slide_type": "skip"
    }
   },
   "outputs": [
    {
     "data": {
      "text/html": [
       "<div>\n",
       "<style scoped>\n",
       "    .dataframe tbody tr th:only-of-type {\n",
       "        vertical-align: middle;\n",
       "    }\n",
       "\n",
       "    .dataframe tbody tr th {\n",
       "        vertical-align: top;\n",
       "    }\n",
       "\n",
       "    .dataframe thead th {\n",
       "        text-align: right;\n",
       "    }\n",
       "</style>\n",
       "<table border=\"1\" class=\"dataframe\">\n",
       "  <thead>\n",
       "    <tr style=\"text-align: right;\">\n",
       "      <th></th>\n",
       "      <th>Unnamed: 0</th>\n",
       "      <th>CNT</th>\n",
       "      <th>SUBNATIO</th>\n",
       "      <th>STRATUM</th>\n",
       "      <th>OECD</th>\n",
       "      <th>NC</th>\n",
       "      <th>SCHOOLID</th>\n",
       "      <th>STIDSTD</th>\n",
       "      <th>ST01Q01</th>\n",
       "      <th>ST02Q01</th>\n",
       "      <th>...</th>\n",
       "      <th>W_FSTR75</th>\n",
       "      <th>W_FSTR76</th>\n",
       "      <th>W_FSTR77</th>\n",
       "      <th>W_FSTR78</th>\n",
       "      <th>W_FSTR79</th>\n",
       "      <th>W_FSTR80</th>\n",
       "      <th>WVARSTRR</th>\n",
       "      <th>VAR_UNIT</th>\n",
       "      <th>SENWGT_STU</th>\n",
       "      <th>VER_STU</th>\n",
       "    </tr>\n",
       "  </thead>\n",
       "  <tbody>\n",
       "    <tr>\n",
       "      <th>320650</th>\n",
       "      <td>320651</td>\n",
       "      <td>Mexico</td>\n",
       "      <td>4840000</td>\n",
       "      <td>MEX1852</td>\n",
       "      <td>OECD</td>\n",
       "      <td>Mexico</td>\n",
       "      <td>212</td>\n",
       "      <td>4948</td>\n",
       "      <td>10</td>\n",
       "      <td>7.0</td>\n",
       "      <td>...</td>\n",
       "      <td>11.2832</td>\n",
       "      <td>11.2832</td>\n",
       "      <td>3.7611</td>\n",
       "      <td>3.7611</td>\n",
       "      <td>11.2832</td>\n",
       "      <td>3.7611</td>\n",
       "      <td>42</td>\n",
       "      <td>2</td>\n",
       "      <td>0.0057</td>\n",
       "      <td>22NOV13</td>\n",
       "    </tr>\n",
       "    <tr>\n",
       "      <th>286798</th>\n",
       "      <td>286799</td>\n",
       "      <td>Kazakhstan</td>\n",
       "      <td>3980000</td>\n",
       "      <td>KAZ0050</td>\n",
       "      <td>Non-OECD</td>\n",
       "      <td>Kazakhstan</td>\n",
       "      <td>67</td>\n",
       "      <td>1747</td>\n",
       "      <td>9</td>\n",
       "      <td>1.0</td>\n",
       "      <td>...</td>\n",
       "      <td>21.4216</td>\n",
       "      <td>64.2648</td>\n",
       "      <td>64.2648</td>\n",
       "      <td>21.4216</td>\n",
       "      <td>64.2648</td>\n",
       "      <td>64.2648</td>\n",
       "      <td>8</td>\n",
       "      <td>1</td>\n",
       "      <td>0.2056</td>\n",
       "      <td>22NOV13</td>\n",
       "    </tr>\n",
       "    <tr>\n",
       "      <th>50718</th>\n",
       "      <td>50719</td>\n",
       "      <td>Bulgaria</td>\n",
       "      <td>1000000</td>\n",
       "      <td>BGR0002</td>\n",
       "      <td>Non-OECD</td>\n",
       "      <td>Bulgaria</td>\n",
       "      <td>28</td>\n",
       "      <td>735</td>\n",
       "      <td>9</td>\n",
       "      <td>3.0</td>\n",
       "      <td>...</td>\n",
       "      <td>4.8506</td>\n",
       "      <td>14.5517</td>\n",
       "      <td>14.5517</td>\n",
       "      <td>4.8506</td>\n",
       "      <td>14.5517</td>\n",
       "      <td>14.5517</td>\n",
       "      <td>67</td>\n",
       "      <td>2</td>\n",
       "      <td>0.1788</td>\n",
       "      <td>22NOV13</td>\n",
       "    </tr>\n",
       "    <tr>\n",
       "      <th>171667</th>\n",
       "      <td>171668</td>\n",
       "      <td>Estonia</td>\n",
       "      <td>2330000</td>\n",
       "      <td>EST0001</td>\n",
       "      <td>OECD</td>\n",
       "      <td>Estonia</td>\n",
       "      <td>35</td>\n",
       "      <td>772</td>\n",
       "      <td>9</td>\n",
       "      <td>1.0</td>\n",
       "      <td>...</td>\n",
       "      <td>2.6945</td>\n",
       "      <td>2.6945</td>\n",
       "      <td>0.8982</td>\n",
       "      <td>2.6945</td>\n",
       "      <td>2.6945</td>\n",
       "      <td>0.8982</td>\n",
       "      <td>32</td>\n",
       "      <td>2</td>\n",
       "      <td>0.1545</td>\n",
       "      <td>22NOV13</td>\n",
       "    </tr>\n",
       "    <tr>\n",
       "      <th>8771</th>\n",
       "      <td>8772</td>\n",
       "      <td>United Arab Emirates</td>\n",
       "      <td>7840200</td>\n",
       "      <td>ARE0216</td>\n",
       "      <td>Non-OECD</td>\n",
       "      <td>United Arab Emirates</td>\n",
       "      <td>161</td>\n",
       "      <td>4029</td>\n",
       "      <td>10</td>\n",
       "      <td>1.0</td>\n",
       "      <td>...</td>\n",
       "      <td>2.1531</td>\n",
       "      <td>0.7177</td>\n",
       "      <td>2.1531</td>\n",
       "      <td>0.6958</td>\n",
       "      <td>2.0882</td>\n",
       "      <td>0.7170</td>\n",
       "      <td>53</td>\n",
       "      <td>2</td>\n",
       "      <td>0.0348</td>\n",
       "      <td>22NOV13</td>\n",
       "    </tr>\n",
       "    <tr>\n",
       "      <th>366426</th>\n",
       "      <td>366427</td>\n",
       "      <td>Norway</td>\n",
       "      <td>5780000</td>\n",
       "      <td>NOR0001</td>\n",
       "      <td>OECD</td>\n",
       "      <td>Norway</td>\n",
       "      <td>102</td>\n",
       "      <td>2517</td>\n",
       "      <td>10</td>\n",
       "      <td>1.0</td>\n",
       "      <td>...</td>\n",
       "      <td>40.5604</td>\n",
       "      <td>42.5019</td>\n",
       "      <td>13.6217</td>\n",
       "      <td>41.2975</td>\n",
       "      <td>41.6214</td>\n",
       "      <td>13.2931</td>\n",
       "      <td>80</td>\n",
       "      <td>2</td>\n",
       "      <td>0.4571</td>\n",
       "      <td>22NOV13</td>\n",
       "    </tr>\n",
       "    <tr>\n",
       "      <th>424817</th>\n",
       "      <td>424818</td>\n",
       "      <td>Singapore</td>\n",
       "      <td>7020000</td>\n",
       "      <td>SGP0201</td>\n",
       "      <td>Non-OECD</td>\n",
       "      <td>Singapore</td>\n",
       "      <td>63</td>\n",
       "      <td>2042</td>\n",
       "      <td>10</td>\n",
       "      <td>1.0</td>\n",
       "      <td>...</td>\n",
       "      <td>4.0663</td>\n",
       "      <td>11.2952</td>\n",
       "      <td>11.7470</td>\n",
       "      <td>11.2952</td>\n",
       "      <td>11.7470</td>\n",
       "      <td>3.9157</td>\n",
       "      <td>35</td>\n",
       "      <td>2</td>\n",
       "      <td>0.1533</td>\n",
       "      <td>22NOV13</td>\n",
       "    </tr>\n",
       "    <tr>\n",
       "      <th>195679</th>\n",
       "      <td>195680</td>\n",
       "      <td>United Kingdom</td>\n",
       "      <td>8260000</td>\n",
       "      <td>GBR1105</td>\n",
       "      <td>OECD</td>\n",
       "      <td>United Kingdom (excl.Scotland)</td>\n",
       "      <td>263</td>\n",
       "      <td>6563</td>\n",
       "      <td>11</td>\n",
       "      <td>1.0</td>\n",
       "      <td>...</td>\n",
       "      <td>53.7247</td>\n",
       "      <td>53.7247</td>\n",
       "      <td>161.1740</td>\n",
       "      <td>161.1740</td>\n",
       "      <td>53.7247</td>\n",
       "      <td>161.1740</td>\n",
       "      <td>24</td>\n",
       "      <td>2</td>\n",
       "      <td>0.1561</td>\n",
       "      <td>22NOV13</td>\n",
       "    </tr>\n",
       "    <tr>\n",
       "      <th>319186</th>\n",
       "      <td>319187</td>\n",
       "      <td>Mexico</td>\n",
       "      <td>4840000</td>\n",
       "      <td>MEX2367</td>\n",
       "      <td>OECD</td>\n",
       "      <td>Mexico</td>\n",
       "      <td>148</td>\n",
       "      <td>3484</td>\n",
       "      <td>9</td>\n",
       "      <td>1.0</td>\n",
       "      <td>...</td>\n",
       "      <td>34.8770</td>\n",
       "      <td>34.8770</td>\n",
       "      <td>11.6257</td>\n",
       "      <td>11.6257</td>\n",
       "      <td>34.8770</td>\n",
       "      <td>11.6257</td>\n",
       "      <td>34</td>\n",
       "      <td>1</td>\n",
       "      <td>0.0175</td>\n",
       "      <td>22NOV13</td>\n",
       "    </tr>\n",
       "    <tr>\n",
       "      <th>22182</th>\n",
       "      <td>22183</td>\n",
       "      <td>Australia</td>\n",
       "      <td>360000</td>\n",
       "      <td>AUS0205</td>\n",
       "      <td>OECD</td>\n",
       "      <td>Australia</td>\n",
       "      <td>2</td>\n",
       "      <td>32</td>\n",
       "      <td>10</td>\n",
       "      <td>1.0</td>\n",
       "      <td>...</td>\n",
       "      <td>12.6846</td>\n",
       "      <td>40.0492</td>\n",
       "      <td>12.6846</td>\n",
       "      <td>40.0492</td>\n",
       "      <td>40.0492</td>\n",
       "      <td>40.0492</td>\n",
       "      <td>32</td>\n",
       "      <td>2</td>\n",
       "      <td>0.1041</td>\n",
       "      <td>22NOV13</td>\n",
       "    </tr>\n",
       "    <tr>\n",
       "      <th>9139</th>\n",
       "      <td>9140</td>\n",
       "      <td>United Arab Emirates</td>\n",
       "      <td>7840100</td>\n",
       "      <td>ARE0101</td>\n",
       "      <td>Non-OECD</td>\n",
       "      <td>United Arab Emirates</td>\n",
       "      <td>173</td>\n",
       "      <td>4397</td>\n",
       "      <td>10</td>\n",
       "      <td>1.0</td>\n",
       "      <td>...</td>\n",
       "      <td>7.1881</td>\n",
       "      <td>7.1881</td>\n",
       "      <td>7.1881</td>\n",
       "      <td>7.1881</td>\n",
       "      <td>7.1881</td>\n",
       "      <td>7.1881</td>\n",
       "      <td>13</td>\n",
       "      <td>2</td>\n",
       "      <td>0.1180</td>\n",
       "      <td>22NOV13</td>\n",
       "    </tr>\n",
       "    <tr>\n",
       "      <th>466154</th>\n",
       "      <td>466155</td>\n",
       "      <td>Turkey</td>\n",
       "      <td>7920000</td>\n",
       "      <td>TUR0008</td>\n",
       "      <td>OECD</td>\n",
       "      <td>Turkey</td>\n",
       "      <td>32</td>\n",
       "      <td>765</td>\n",
       "      <td>9</td>\n",
       "      <td>3.0</td>\n",
       "      <td>...</td>\n",
       "      <td>104.8498</td>\n",
       "      <td>308.2223</td>\n",
       "      <td>102.6255</td>\n",
       "      <td>99.3859</td>\n",
       "      <td>103.0004</td>\n",
       "      <td>108.8221</td>\n",
       "      <td>49</td>\n",
       "      <td>1</td>\n",
       "      <td>0.2394</td>\n",
       "      <td>22NOV13</td>\n",
       "    </tr>\n",
       "    <tr>\n",
       "      <th>261891</th>\n",
       "      <td>261892</td>\n",
       "      <td>Italy</td>\n",
       "      <td>3800000</td>\n",
       "      <td>ITA0301</td>\n",
       "      <td>OECD</td>\n",
       "      <td>Italy</td>\n",
       "      <td>813</td>\n",
       "      <td>21302</td>\n",
       "      <td>10</td>\n",
       "      <td>1.0</td>\n",
       "      <td>...</td>\n",
       "      <td>8.6586</td>\n",
       "      <td>8.6476</td>\n",
       "      <td>26.1819</td>\n",
       "      <td>8.7486</td>\n",
       "      <td>8.6463</td>\n",
       "      <td>26.1710</td>\n",
       "      <td>65</td>\n",
       "      <td>2</td>\n",
       "      <td>0.0334</td>\n",
       "      <td>22NOV13</td>\n",
       "    </tr>\n",
       "    <tr>\n",
       "      <th>118492</th>\n",
       "      <td>118493</td>\n",
       "      <td>Colombia</td>\n",
       "      <td>1700000</td>\n",
       "      <td>COL0205</td>\n",
       "      <td>Non-OECD</td>\n",
       "      <td>Colombia</td>\n",
       "      <td>172</td>\n",
       "      <td>4394</td>\n",
       "      <td>11</td>\n",
       "      <td>3.0</td>\n",
       "      <td>...</td>\n",
       "      <td>8.0780</td>\n",
       "      <td>8.0780</td>\n",
       "      <td>24.2341</td>\n",
       "      <td>24.2341</td>\n",
       "      <td>24.2341</td>\n",
       "      <td>24.2341</td>\n",
       "      <td>76</td>\n",
       "      <td>1</td>\n",
       "      <td>0.0289</td>\n",
       "      <td>22NOV13</td>\n",
       "    </tr>\n",
       "    <tr>\n",
       "      <th>342619</th>\n",
       "      <td>342620</td>\n",
       "      <td>Mexico</td>\n",
       "      <td>4840000</td>\n",
       "      <td>MEX0720</td>\n",
       "      <td>OECD</td>\n",
       "      <td>Mexico</td>\n",
       "      <td>1157</td>\n",
       "      <td>26917</td>\n",
       "      <td>9</td>\n",
       "      <td>2.0</td>\n",
       "      <td>...</td>\n",
       "      <td>140.2195</td>\n",
       "      <td>44.0620</td>\n",
       "      <td>140.2195</td>\n",
       "      <td>44.0620</td>\n",
       "      <td>140.2195</td>\n",
       "      <td>140.2195</td>\n",
       "      <td>23</td>\n",
       "      <td>2</td>\n",
       "      <td>0.0690</td>\n",
       "      <td>22NOV13</td>\n",
       "    </tr>\n",
       "    <tr>\n",
       "      <th>468432</th>\n",
       "      <td>468433</td>\n",
       "      <td>Turkey</td>\n",
       "      <td>7920000</td>\n",
       "      <td>TUR0008</td>\n",
       "      <td>OECD</td>\n",
       "      <td>Turkey</td>\n",
       "      <td>108</td>\n",
       "      <td>3043</td>\n",
       "      <td>10</td>\n",
       "      <td>3.0</td>\n",
       "      <td>...</td>\n",
       "      <td>308.9327</td>\n",
       "      <td>102.7486</td>\n",
       "      <td>308.9327</td>\n",
       "      <td>308.9327</td>\n",
       "      <td>308.9327</td>\n",
       "      <td>308.9327</td>\n",
       "      <td>49</td>\n",
       "      <td>2</td>\n",
       "      <td>0.2374</td>\n",
       "      <td>22NOV13</td>\n",
       "    </tr>\n",
       "    <tr>\n",
       "      <th>178666</th>\n",
       "      <td>178667</td>\n",
       "      <td>Finland</td>\n",
       "      <td>2460000</td>\n",
       "      <td>FIN0016</td>\n",
       "      <td>OECD</td>\n",
       "      <td>Finland</td>\n",
       "      <td>106</td>\n",
       "      <td>2992</td>\n",
       "      <td>9</td>\n",
       "      <td>1.0</td>\n",
       "      <td>...</td>\n",
       "      <td>1.3429</td>\n",
       "      <td>4.0286</td>\n",
       "      <td>4.0286</td>\n",
       "      <td>4.0286</td>\n",
       "      <td>4.0286</td>\n",
       "      <td>1.3429</td>\n",
       "      <td>1</td>\n",
       "      <td>1</td>\n",
       "      <td>0.0447</td>\n",
       "      <td>22NOV13</td>\n",
       "    </tr>\n",
       "    <tr>\n",
       "      <th>395130</th>\n",
       "      <td>395131</td>\n",
       "      <td>Qatar</td>\n",
       "      <td>6340000</td>\n",
       "      <td>QAT0004</td>\n",
       "      <td>Non-OECD</td>\n",
       "      <td>Qatar</td>\n",
       "      <td>77</td>\n",
       "      <td>5880</td>\n",
       "      <td>9</td>\n",
       "      <td>2.0</td>\n",
       "      <td>...</td>\n",
       "      <td>0.5009</td>\n",
       "      <td>1.5027</td>\n",
       "      <td>0.5009</td>\n",
       "      <td>0.5009</td>\n",
       "      <td>0.5009</td>\n",
       "      <td>0.5009</td>\n",
       "      <td>52</td>\n",
       "      <td>2</td>\n",
       "      <td>0.0910</td>\n",
       "      <td>22NOV13</td>\n",
       "    </tr>\n",
       "    <tr>\n",
       "      <th>171661</th>\n",
       "      <td>171662</td>\n",
       "      <td>Estonia</td>\n",
       "      <td>2330000</td>\n",
       "      <td>EST0001</td>\n",
       "      <td>OECD</td>\n",
       "      <td>Estonia</td>\n",
       "      <td>35</td>\n",
       "      <td>766</td>\n",
       "      <td>9</td>\n",
       "      <td>1.0</td>\n",
       "      <td>...</td>\n",
       "      <td>2.6945</td>\n",
       "      <td>2.6945</td>\n",
       "      <td>0.8982</td>\n",
       "      <td>2.6945</td>\n",
       "      <td>2.6945</td>\n",
       "      <td>0.8982</td>\n",
       "      <td>32</td>\n",
       "      <td>2</td>\n",
       "      <td>0.1545</td>\n",
       "      <td>22NOV13</td>\n",
       "    </tr>\n",
       "    <tr>\n",
       "      <th>352442</th>\n",
       "      <td>352443</td>\n",
       "      <td>Montenegro</td>\n",
       "      <td>4990000</td>\n",
       "      <td>MNE0007</td>\n",
       "      <td>Non-OECD</td>\n",
       "      <td>Montenegro</td>\n",
       "      <td>31</td>\n",
       "      <td>2934</td>\n",
       "      <td>9</td>\n",
       "      <td>3.0</td>\n",
       "      <td>...</td>\n",
       "      <td>0.5848</td>\n",
       "      <td>1.7508</td>\n",
       "      <td>0.5716</td>\n",
       "      <td>0.5587</td>\n",
       "      <td>1.7227</td>\n",
       "      <td>1.6805</td>\n",
       "      <td>27</td>\n",
       "      <td>1</td>\n",
       "      <td>0.1512</td>\n",
       "      <td>22NOV13</td>\n",
       "    </tr>\n",
       "  </tbody>\n",
       "</table>\n",
       "<p>20 rows × 636 columns</p>\n",
       "</div>"
      ],
      "text/plain": [
       "        Unnamed: 0                   CNT  SUBNATIO  STRATUM      OECD  \\\n",
       "320650      320651                Mexico   4840000  MEX1852      OECD   \n",
       "286798      286799            Kazakhstan   3980000  KAZ0050  Non-OECD   \n",
       "50718        50719              Bulgaria   1000000  BGR0002  Non-OECD   \n",
       "171667      171668               Estonia   2330000  EST0001      OECD   \n",
       "8771          8772  United Arab Emirates   7840200  ARE0216  Non-OECD   \n",
       "366426      366427                Norway   5780000  NOR0001      OECD   \n",
       "424817      424818             Singapore   7020000  SGP0201  Non-OECD   \n",
       "195679      195680        United Kingdom   8260000  GBR1105      OECD   \n",
       "319186      319187                Mexico   4840000  MEX2367      OECD   \n",
       "22182        22183             Australia    360000  AUS0205      OECD   \n",
       "9139          9140  United Arab Emirates   7840100  ARE0101  Non-OECD   \n",
       "466154      466155                Turkey   7920000  TUR0008      OECD   \n",
       "261891      261892                 Italy   3800000  ITA0301      OECD   \n",
       "118492      118493              Colombia   1700000  COL0205  Non-OECD   \n",
       "342619      342620                Mexico   4840000  MEX0720      OECD   \n",
       "468432      468433                Turkey   7920000  TUR0008      OECD   \n",
       "178666      178667               Finland   2460000  FIN0016      OECD   \n",
       "395130      395131                 Qatar   6340000  QAT0004  Non-OECD   \n",
       "171661      171662               Estonia   2330000  EST0001      OECD   \n",
       "352442      352443            Montenegro   4990000  MNE0007  Non-OECD   \n",
       "\n",
       "                                     NC  SCHOOLID  STIDSTD  ST01Q01  ST02Q01  \\\n",
       "320650                          Mexico        212     4948       10      7.0   \n",
       "286798                      Kazakhstan         67     1747        9      1.0   \n",
       "50718                         Bulgaria         28      735        9      3.0   \n",
       "171667                          Estonia        35      772        9      1.0   \n",
       "8771              United Arab Emirates        161     4029       10      1.0   \n",
       "366426                          Norway        102     2517       10      1.0   \n",
       "424817                        Singapore        63     2042       10      1.0   \n",
       "195679  United Kingdom (excl.Scotland)        263     6563       11      1.0   \n",
       "319186                          Mexico        148     3484        9      1.0   \n",
       "22182                         Australia         2       32       10      1.0   \n",
       "9139              United Arab Emirates        173     4397       10      1.0   \n",
       "466154                          Turkey         32      765        9      3.0   \n",
       "261891                            Italy       813    21302       10      1.0   \n",
       "118492                        Colombia        172     4394       11      3.0   \n",
       "342619                          Mexico       1157    26917        9      2.0   \n",
       "468432                          Turkey        108     3043       10      3.0   \n",
       "178666                          Finland       106     2992        9      1.0   \n",
       "395130                            Qatar        77     5880        9      2.0   \n",
       "171661                          Estonia        35      766        9      1.0   \n",
       "352442                      Montenegro         31     2934        9      3.0   \n",
       "\n",
       "        ...  W_FSTR75  W_FSTR76  W_FSTR77  W_FSTR78  W_FSTR79  W_FSTR80  \\\n",
       "320650  ...   11.2832   11.2832    3.7611    3.7611   11.2832    3.7611   \n",
       "286798  ...   21.4216   64.2648   64.2648   21.4216   64.2648   64.2648   \n",
       "50718   ...    4.8506   14.5517   14.5517    4.8506   14.5517   14.5517   \n",
       "171667  ...    2.6945    2.6945    0.8982    2.6945    2.6945    0.8982   \n",
       "8771    ...    2.1531    0.7177    2.1531    0.6958    2.0882    0.7170   \n",
       "366426  ...   40.5604   42.5019   13.6217   41.2975   41.6214   13.2931   \n",
       "424817  ...    4.0663   11.2952   11.7470   11.2952   11.7470    3.9157   \n",
       "195679  ...   53.7247   53.7247  161.1740  161.1740   53.7247  161.1740   \n",
       "319186  ...   34.8770   34.8770   11.6257   11.6257   34.8770   11.6257   \n",
       "22182   ...   12.6846   40.0492   12.6846   40.0492   40.0492   40.0492   \n",
       "9139    ...    7.1881    7.1881    7.1881    7.1881    7.1881    7.1881   \n",
       "466154  ...  104.8498  308.2223  102.6255   99.3859  103.0004  108.8221   \n",
       "261891  ...    8.6586    8.6476   26.1819    8.7486    8.6463   26.1710   \n",
       "118492  ...    8.0780    8.0780   24.2341   24.2341   24.2341   24.2341   \n",
       "342619  ...  140.2195   44.0620  140.2195   44.0620  140.2195  140.2195   \n",
       "468432  ...  308.9327  102.7486  308.9327  308.9327  308.9327  308.9327   \n",
       "178666  ...    1.3429    4.0286    4.0286    4.0286    4.0286    1.3429   \n",
       "395130  ...    0.5009    1.5027    0.5009    0.5009    0.5009    0.5009   \n",
       "171661  ...    2.6945    2.6945    0.8982    2.6945    2.6945    0.8982   \n",
       "352442  ...    0.5848    1.7508    0.5716    0.5587    1.7227    1.6805   \n",
       "\n",
       "       WVARSTRR VAR_UNIT SENWGT_STU  VER_STU  \n",
       "320650       42        2     0.0057  22NOV13  \n",
       "286798        8        1     0.2056  22NOV13  \n",
       "50718        67        2     0.1788  22NOV13  \n",
       "171667       32        2     0.1545  22NOV13  \n",
       "8771         53        2     0.0348  22NOV13  \n",
       "366426       80        2     0.4571  22NOV13  \n",
       "424817       35        2     0.1533  22NOV13  \n",
       "195679       24        2     0.1561  22NOV13  \n",
       "319186       34        1     0.0175  22NOV13  \n",
       "22182        32        2     0.1041  22NOV13  \n",
       "9139         13        2     0.1180  22NOV13  \n",
       "466154       49        1     0.2394  22NOV13  \n",
       "261891       65        2     0.0334  22NOV13  \n",
       "118492       76        1     0.0289  22NOV13  \n",
       "342619       23        2     0.0690  22NOV13  \n",
       "468432       49        2     0.2374  22NOV13  \n",
       "178666        1        1     0.0447  22NOV13  \n",
       "395130       52        2     0.0910  22NOV13  \n",
       "171661       32        2     0.1545  22NOV13  \n",
       "352442       27        1     0.1512  22NOV13  \n",
       "\n",
       "[20 rows x 636 columns]"
      ]
     },
     "execution_count": 4,
     "metadata": {},
     "output_type": "execute_result"
    }
   ],
   "source": [
    "pisa_2012.sample(20)"
   ]
  },
  {
   "cell_type": "markdown",
   "metadata": {
    "slideshow": {
     "slide_type": "skip"
    }
   },
   "source": [
    "#### The pisa_2012 data does look pretty clean but there's a lot of columns that we can't really see. Further, I don't know what they really meant. This warned me that I should look at the csv file separately by running an IDLE and also read from the PISA 2012 booklet that can be found online. "
   ]
  },
  {
   "cell_type": "code",
   "execution_count": 5,
   "metadata": {
    "slideshow": {
     "slide_type": "skip"
    }
   },
   "outputs": [
    {
     "data": {
      "text/plain": [
       "485490"
      ]
     },
     "execution_count": 5,
     "metadata": {},
     "output_type": "execute_result"
    }
   ],
   "source": [
    "# inspect df\n",
    "pisa_2012.shape[0]"
   ]
  },
  {
   "cell_type": "code",
   "execution_count": 6,
   "metadata": {
    "slideshow": {
     "slide_type": "skip"
    }
   },
   "outputs": [
    {
     "name": "stdout",
     "output_type": "stream",
     "text": [
      "<class 'pandas.core.frame.DataFrame'>\n",
      "RangeIndex: 485490 entries, 0 to 485489\n",
      "Columns: 636 entries, Unnamed: 0 to VER_STU\n",
      "dtypes: float64(250), int64(18), object(368)\n",
      "memory usage: 2.3+ GB\n"
     ]
    }
   ],
   "source": [
    "pisa_2012.info()"
   ]
  },
  {
   "cell_type": "markdown",
   "metadata": {
    "slideshow": {
     "slide_type": "skip"
    }
   },
   "source": [
    " - The total number of students is 485,490.\n",
    " - There's 636 columns so we only want to choose columns that we really need."
   ]
  },
  {
   "cell_type": "markdown",
   "metadata": {
    "slideshow": {
     "slide_type": "skip"
    }
   },
   "source": [
    "#### To reiterate, we want to only keep the variables we find interesting and will help us gain best insights that are creative and fulfilling for us at the end. Knowing that PISA tests on Math, Reading, and Science, I was more interested in Reading Scores and Language-related variables. "
   ]
  },
  {
   "cell_type": "code",
   "execution_count": 7,
   "metadata": {
    "slideshow": {
     "slide_type": "skip"
    }
   },
   "outputs": [
    {
     "data": {
      "text/html": [
       "<div>\n",
       "<style scoped>\n",
       "    .dataframe tbody tr th:only-of-type {\n",
       "        vertical-align: middle;\n",
       "    }\n",
       "\n",
       "    .dataframe tbody tr th {\n",
       "        vertical-align: top;\n",
       "    }\n",
       "\n",
       "    .dataframe thead th {\n",
       "        text-align: right;\n",
       "    }\n",
       "</style>\n",
       "<table border=\"1\" class=\"dataframe\">\n",
       "  <thead>\n",
       "    <tr style=\"text-align: right;\">\n",
       "      <th></th>\n",
       "      <th>Unnamed: 0</th>\n",
       "      <th>x</th>\n",
       "    </tr>\n",
       "  </thead>\n",
       "  <tbody>\n",
       "    <tr>\n",
       "      <th>0</th>\n",
       "      <td>CNT</td>\n",
       "      <td>Country code 3-character</td>\n",
       "    </tr>\n",
       "    <tr>\n",
       "      <th>1</th>\n",
       "      <td>SUBNATIO</td>\n",
       "      <td>Adjudicated sub-region code 7-digit code (3-di...</td>\n",
       "    </tr>\n",
       "    <tr>\n",
       "      <th>2</th>\n",
       "      <td>STRATUM</td>\n",
       "      <td>Stratum ID 7-character (cnt + region ID + orig...</td>\n",
       "    </tr>\n",
       "    <tr>\n",
       "      <th>3</th>\n",
       "      <td>OECD</td>\n",
       "      <td>OECD country</td>\n",
       "    </tr>\n",
       "    <tr>\n",
       "      <th>4</th>\n",
       "      <td>NC</td>\n",
       "      <td>National Centre 6-digit Code</td>\n",
       "    </tr>\n",
       "    <tr>\n",
       "      <th>...</th>\n",
       "      <td>...</td>\n",
       "      <td>...</td>\n",
       "    </tr>\n",
       "    <tr>\n",
       "      <th>630</th>\n",
       "      <td>W_FSTR80</td>\n",
       "      <td>FINAL STUDENT REPLICATE BRR-FAY WEIGHT80</td>\n",
       "    </tr>\n",
       "    <tr>\n",
       "      <th>631</th>\n",
       "      <td>WVARSTRR</td>\n",
       "      <td>RANDOMIZED FINAL VARIANCE STRATUM (1-80)</td>\n",
       "    </tr>\n",
       "    <tr>\n",
       "      <th>632</th>\n",
       "      <td>VAR_UNIT</td>\n",
       "      <td>RANDOMLY ASSIGNED VARIANCE UNIT</td>\n",
       "    </tr>\n",
       "    <tr>\n",
       "      <th>633</th>\n",
       "      <td>SENWGT_STU</td>\n",
       "      <td>Senate weight - sum of weight within the count...</td>\n",
       "    </tr>\n",
       "    <tr>\n",
       "      <th>634</th>\n",
       "      <td>VER_STU</td>\n",
       "      <td>Date of the database creation</td>\n",
       "    </tr>\n",
       "  </tbody>\n",
       "</table>\n",
       "<p>635 rows × 2 columns</p>\n",
       "</div>"
      ],
      "text/plain": [
       "     Unnamed: 0                                                  x\n",
       "0           CNT                           Country code 3-character\n",
       "1      SUBNATIO  Adjudicated sub-region code 7-digit code (3-di...\n",
       "2       STRATUM  Stratum ID 7-character (cnt + region ID + orig...\n",
       "3          OECD                                       OECD country\n",
       "4            NC                       National Centre 6-digit Code\n",
       "..          ...                                                ...\n",
       "630    W_FSTR80           FINAL STUDENT REPLICATE BRR-FAY WEIGHT80\n",
       "631    WVARSTRR           RANDOMIZED FINAL VARIANCE STRATUM (1-80)\n",
       "632    VAR_UNIT                    RANDOMLY ASSIGNED VARIANCE UNIT\n",
       "633  SENWGT_STU  Senate weight - sum of weight within the count...\n",
       "634     VER_STU                      Date of the database creation\n",
       "\n",
       "[635 rows x 2 columns]"
      ]
     },
     "execution_count": 7,
     "metadata": {},
     "output_type": "execute_result"
    }
   ],
   "source": [
    "# now inspect the column descriptions\n",
    "pisa_dict_2012"
   ]
  },
  {
   "cell_type": "code",
   "execution_count": 8,
   "metadata": {
    "slideshow": {
     "slide_type": "skip"
    }
   },
   "outputs": [
    {
     "data": {
      "text/html": [
       "<div>\n",
       "<style scoped>\n",
       "    .dataframe tbody tr th:only-of-type {\n",
       "        vertical-align: middle;\n",
       "    }\n",
       "\n",
       "    .dataframe tbody tr th {\n",
       "        vertical-align: top;\n",
       "    }\n",
       "\n",
       "    .dataframe thead th {\n",
       "        text-align: right;\n",
       "    }\n",
       "</style>\n",
       "<table border=\"1\" class=\"dataframe\">\n",
       "  <thead>\n",
       "    <tr style=\"text-align: right;\">\n",
       "      <th></th>\n",
       "      <th>Unnamed: 0</th>\n",
       "      <th>x</th>\n",
       "    </tr>\n",
       "  </thead>\n",
       "  <tbody>\n",
       "    <tr>\n",
       "      <th>0</th>\n",
       "      <td>CNT</td>\n",
       "      <td>Country code 3-character</td>\n",
       "    </tr>\n",
       "    <tr>\n",
       "      <th>1</th>\n",
       "      <td>SUBNATIO</td>\n",
       "      <td>Adjudicated sub-region code 7-digit code (3-di...</td>\n",
       "    </tr>\n",
       "    <tr>\n",
       "      <th>2</th>\n",
       "      <td>STRATUM</td>\n",
       "      <td>Stratum ID 7-character (cnt + region ID + orig...</td>\n",
       "    </tr>\n",
       "    <tr>\n",
       "      <th>3</th>\n",
       "      <td>OECD</td>\n",
       "      <td>OECD country</td>\n",
       "    </tr>\n",
       "    <tr>\n",
       "      <th>4</th>\n",
       "      <td>NC</td>\n",
       "      <td>National Centre 6-digit Code</td>\n",
       "    </tr>\n",
       "    <tr>\n",
       "      <th>5</th>\n",
       "      <td>SCHOOLID</td>\n",
       "      <td>School ID 7-digit (region ID + stratum ID + 3-...</td>\n",
       "    </tr>\n",
       "    <tr>\n",
       "      <th>6</th>\n",
       "      <td>STIDSTD</td>\n",
       "      <td>Student ID</td>\n",
       "    </tr>\n",
       "    <tr>\n",
       "      <th>7</th>\n",
       "      <td>ST01Q01</td>\n",
       "      <td>International Grade</td>\n",
       "    </tr>\n",
       "    <tr>\n",
       "      <th>8</th>\n",
       "      <td>ST02Q01</td>\n",
       "      <td>National Study Programme</td>\n",
       "    </tr>\n",
       "    <tr>\n",
       "      <th>9</th>\n",
       "      <td>ST03Q01</td>\n",
       "      <td>Birth - Month</td>\n",
       "    </tr>\n",
       "  </tbody>\n",
       "</table>\n",
       "</div>"
      ],
      "text/plain": [
       "  Unnamed: 0                                                  x\n",
       "0        CNT                           Country code 3-character\n",
       "1   SUBNATIO  Adjudicated sub-region code 7-digit code (3-di...\n",
       "2    STRATUM  Stratum ID 7-character (cnt + region ID + orig...\n",
       "3       OECD                                       OECD country\n",
       "4         NC                       National Centre 6-digit Code\n",
       "5   SCHOOLID  School ID 7-digit (region ID + stratum ID + 3-...\n",
       "6    STIDSTD                                         Student ID\n",
       "7    ST01Q01                                International Grade\n",
       "8    ST02Q01                           National Study Programme\n",
       "9    ST03Q01                                      Birth - Month"
      ]
     },
     "execution_count": 8,
     "metadata": {},
     "output_type": "execute_result"
    }
   ],
   "source": [
    "pisa_dict_2012.head(10)"
   ]
  },
  {
   "cell_type": "markdown",
   "metadata": {
    "slideshow": {
     "slide_type": "skip"
    }
   },
   "source": [
    "- There's a lot of variables that went into the survey.\n",
    "- I used Atom to open up the CSV file to read the dictionary in detail"
   ]
  },
  {
   "cell_type": "markdown",
   "metadata": {
    "slideshow": {
     "slide_type": "skip"
    }
   },
   "source": [
    "#### I read the descriptions of the variables carefully and tried to understand how some of them were measured. Although it isn't super clear as to how some of the variables were derived, I was preparing myself for the cleaning portion as it is the longest, hardest, but the most important portion. "
   ]
  },
  {
   "cell_type": "code",
   "execution_count": 9,
   "metadata": {
    "slideshow": {
     "slide_type": "skip"
    }
   },
   "outputs": [
    {
     "data": {
      "text/plain": [
       "NC\n",
       "Mexico                       33806\n",
       "Italy                        31073\n",
       "Spain                        25313\n",
       "Canada                       21544\n",
       "Brazil                       19204\n",
       "                             ...  \n",
       "New Zealand                   4291\n",
       "Iceland                       3508\n",
       "United Kingdom (Scotland)     2945\n",
       "Perm (Russian Federation)     1761\n",
       "Liechtenstein                  293\n",
       "Name: CNT, Length: 66, dtype: int64"
      ]
     },
     "execution_count": 9,
     "metadata": {},
     "output_type": "execute_result"
    }
   ],
   "source": [
    "# CNT = Country Code\n",
    "# NC  = National Centre Code \n",
    "# use groupby based on 'NC' then within each 'NC', we group based on 'CNT' \n",
    "# then count and sort values in decreaing amount \n",
    "pisa_2012.groupby('NC')['CNT'].count().sort_values(ascending=False)"
   ]
  },
  {
   "cell_type": "markdown",
   "metadata": {
    "slideshow": {
     "slide_type": "skip"
    }
   },
   "source": [
    " - We see that the country with the highest amount of participants was Mexico (33806) while Liechtenstein had the least amount (293)."
   ]
  },
  {
   "cell_type": "markdown",
   "metadata": {
    "slideshow": {
     "slide_type": "skip"
    }
   },
   "source": [
    "Further, these are the columns from the dictionary list I find interesting and want to focus my project on.\n",
    " - \"AGE\", \"Age\n",
    " - \"CNT\",\"Country code 3-character\"\n",
    " - \"ST04Q01\",\"Gender\"\n",
    " - \"ST26Q12\",\"Possessions - dictionary\"\n",
    " - \"ST25Q01\",\"International Language at Home\"\n",
    " - \"TCHBEHFA\",\"Teacher Behaviour: Formative Assessment\"\n",
    " - \"TCHBEHSO\",\"Teacher Behaviour: Student Orientation\"\n",
    " - \"TCHBEHTD\",\"Teacher Behaviour: Teacher-directed Instruction\"\n",
    " - \"PV1MATH\",\"Plausible value 1 in mathematics\"\n",
    " - \"PV2MATH\",\"Plausible value 2 in mathematics\"\n",
    " - \"PV3MATH\",\"Plausible value 3 in mathematics\"\n",
    " - \"PV4MATH\",\"Plausible value 4 in mathematics\"\n",
    " - \"PV5MATH\",\"Plausible value 5 in mathematics\"\n",
    " - \"PV1READ\",\"Plausible value 1 in reading\"\n",
    " - \"PV2READ\",\"Plausible value 2 in reading\"\n",
    " - \"PV3READ\",\"Plausible value 3 in reading\"\n",
    " - \"PV4READ\",\"Plausible value 4 in reading\"\n",
    " - \"PV5READ\",\"Plausible value 5 in reading\"\n",
    " - \"PV1SCIE\",\"Plausible value 1 in science\"\n",
    " - \"PV2SCIE\",\"Plausible value 2 in science\"\n",
    " - \"PV3SCIE\",\"Plausible value 3 in science\"\n",
    " - \"PV4SCIE\",\"Plausible value 4 in science\"\n",
    " - \"PV5SCIE\",\"Plausible value 5 in science\"\n"
   ]
  },
  {
   "cell_type": "markdown",
   "metadata": {
    "slideshow": {
     "slide_type": "skip"
    }
   },
   "source": [
    "### Brainstorming Questions....\n",
    "\n",
    "  \n",
    "- *How did students perform in average?*\n",
    "\n",
    "- *Which gender performed better in Reading?*\n",
    "\n",
    "- *Did students with dictionaries perform better in Reading than those that didn't?*\n",
    "\n",
    "- *Do students who possess dictionaries, alsmo more likely to possess literature books?*\n",
    "\n",
    "- *What's the correlation between the three Teacher Behaviour scores?*\n",
    "\n",
    "- *What's the correlation between the three subject tests? Is there a greater correlation between Math and Science scores?*\n"
   ]
  },
  {
   "cell_type": "markdown",
   "metadata": {
    "slideshow": {
     "slide_type": "skip"
    }
   },
   "source": [
    "## Cleaning Data "
   ]
  },
  {
   "cell_type": "markdown",
   "metadata": {
    "slideshow": {
     "slide_type": "skip"
    }
   },
   "source": [
    "We know that there's 636 columns and we want to only keep the ones that will help us answer our questions."
   ]
  },
  {
   "cell_type": "code",
   "execution_count": 10,
   "metadata": {
    "slideshow": {
     "slide_type": "skip"
    }
   },
   "outputs": [],
   "source": [
    "# make a copy of the original df \n",
    "pisa_2012_clean = pisa_2012.copy()  "
   ]
  },
  {
   "cell_type": "code",
   "execution_count": 11,
   "metadata": {
    "slideshow": {
     "slide_type": "skip"
    }
   },
   "outputs": [],
   "source": [
    "# keep the columns that we will need for our analysis \n",
    "pisa_2012_clean = pisa_2012_clean[['CNT','ST04Q01','ST26Q12','AGE','ST26Q07','ST25Q01','TCHBEHFA','TCHBEHSO','TCHBEHTD','PV1MATH',\n",
    "                                   'PV2MATH', 'PV3MATH', 'PV4MATH', 'PV5MATH', 'PV1READ', 'PV2READ', 'PV3READ', \n",
    "                                   'PV4READ', 'PV5READ','PV1SCIE', 'PV2SCIE', 'PV3SCIE', 'PV4SCIE', 'PV5SCIE']]"
   ]
  },
  {
   "cell_type": "code",
   "execution_count": 12,
   "metadata": {
    "slideshow": {
     "slide_type": "skip"
    }
   },
   "outputs": [
    {
     "data": {
      "text/html": [
       "<div>\n",
       "<style scoped>\n",
       "    .dataframe tbody tr th:only-of-type {\n",
       "        vertical-align: middle;\n",
       "    }\n",
       "\n",
       "    .dataframe tbody tr th {\n",
       "        vertical-align: top;\n",
       "    }\n",
       "\n",
       "    .dataframe thead th {\n",
       "        text-align: right;\n",
       "    }\n",
       "</style>\n",
       "<table border=\"1\" class=\"dataframe\">\n",
       "  <thead>\n",
       "    <tr style=\"text-align: right;\">\n",
       "      <th></th>\n",
       "      <th>CNT</th>\n",
       "      <th>ST04Q01</th>\n",
       "      <th>ST26Q12</th>\n",
       "      <th>AGE</th>\n",
       "      <th>ST26Q07</th>\n",
       "      <th>ST25Q01</th>\n",
       "      <th>TCHBEHFA</th>\n",
       "      <th>TCHBEHSO</th>\n",
       "      <th>TCHBEHTD</th>\n",
       "      <th>PV1MATH</th>\n",
       "      <th>...</th>\n",
       "      <th>PV1READ</th>\n",
       "      <th>PV2READ</th>\n",
       "      <th>PV3READ</th>\n",
       "      <th>PV4READ</th>\n",
       "      <th>PV5READ</th>\n",
       "      <th>PV1SCIE</th>\n",
       "      <th>PV2SCIE</th>\n",
       "      <th>PV3SCIE</th>\n",
       "      <th>PV4SCIE</th>\n",
       "      <th>PV5SCIE</th>\n",
       "    </tr>\n",
       "  </thead>\n",
       "  <tbody>\n",
       "    <tr>\n",
       "      <th>0</th>\n",
       "      <td>Albania</td>\n",
       "      <td>Female</td>\n",
       "      <td>Yes</td>\n",
       "      <td>16.17</td>\n",
       "      <td>No</td>\n",
       "      <td>Language of the test</td>\n",
       "      <td>1.3625</td>\n",
       "      <td>0.9374</td>\n",
       "      <td>0.4297</td>\n",
       "      <td>406.8469</td>\n",
       "      <td>...</td>\n",
       "      <td>249.5762</td>\n",
       "      <td>254.3420</td>\n",
       "      <td>406.8496</td>\n",
       "      <td>175.7053</td>\n",
       "      <td>218.5981</td>\n",
       "      <td>341.7009</td>\n",
       "      <td>408.8400</td>\n",
       "      <td>348.2283</td>\n",
       "      <td>367.8105</td>\n",
       "      <td>392.9877</td>\n",
       "    </tr>\n",
       "    <tr>\n",
       "      <th>1</th>\n",
       "      <td>Albania</td>\n",
       "      <td>Female</td>\n",
       "      <td>Yes</td>\n",
       "      <td>16.17</td>\n",
       "      <td>Yes</td>\n",
       "      <td>Language of the test</td>\n",
       "      <td>NaN</td>\n",
       "      <td>NaN</td>\n",
       "      <td>NaN</td>\n",
       "      <td>486.1427</td>\n",
       "      <td>...</td>\n",
       "      <td>406.2936</td>\n",
       "      <td>349.8975</td>\n",
       "      <td>400.7334</td>\n",
       "      <td>369.7553</td>\n",
       "      <td>396.7618</td>\n",
       "      <td>548.9929</td>\n",
       "      <td>471.5964</td>\n",
       "      <td>471.5964</td>\n",
       "      <td>443.6218</td>\n",
       "      <td>454.8116</td>\n",
       "    </tr>\n",
       "    <tr>\n",
       "      <th>2</th>\n",
       "      <td>Albania</td>\n",
       "      <td>Female</td>\n",
       "      <td>Yes</td>\n",
       "      <td>15.58</td>\n",
       "      <td>Yes</td>\n",
       "      <td>Language of the test</td>\n",
       "      <td>NaN</td>\n",
       "      <td>NaN</td>\n",
       "      <td>NaN</td>\n",
       "      <td>533.2684</td>\n",
       "      <td>...</td>\n",
       "      <td>401.2100</td>\n",
       "      <td>404.3872</td>\n",
       "      <td>387.7067</td>\n",
       "      <td>431.3938</td>\n",
       "      <td>401.2100</td>\n",
       "      <td>499.6643</td>\n",
       "      <td>428.7952</td>\n",
       "      <td>492.2044</td>\n",
       "      <td>512.7191</td>\n",
       "      <td>499.6643</td>\n",
       "    </tr>\n",
       "    <tr>\n",
       "      <th>3</th>\n",
       "      <td>Albania</td>\n",
       "      <td>Female</td>\n",
       "      <td>Yes</td>\n",
       "      <td>15.67</td>\n",
       "      <td>Yes</td>\n",
       "      <td>Language of the test</td>\n",
       "      <td>0.7644</td>\n",
       "      <td>3.3108</td>\n",
       "      <td>2.3916</td>\n",
       "      <td>412.2215</td>\n",
       "      <td>...</td>\n",
       "      <td>547.3630</td>\n",
       "      <td>481.4353</td>\n",
       "      <td>461.5776</td>\n",
       "      <td>425.0393</td>\n",
       "      <td>471.9036</td>\n",
       "      <td>438.6796</td>\n",
       "      <td>481.5740</td>\n",
       "      <td>448.9370</td>\n",
       "      <td>474.1141</td>\n",
       "      <td>426.5573</td>\n",
       "    </tr>\n",
       "    <tr>\n",
       "      <th>4</th>\n",
       "      <td>Albania</td>\n",
       "      <td>Female</td>\n",
       "      <td>Yes</td>\n",
       "      <td>15.50</td>\n",
       "      <td>Yes</td>\n",
       "      <td>Language of the test</td>\n",
       "      <td>0.7644</td>\n",
       "      <td>0.9374</td>\n",
       "      <td>0.4297</td>\n",
       "      <td>381.9209</td>\n",
       "      <td>...</td>\n",
       "      <td>311.7707</td>\n",
       "      <td>141.7883</td>\n",
       "      <td>293.5015</td>\n",
       "      <td>272.8495</td>\n",
       "      <td>260.1405</td>\n",
       "      <td>361.5628</td>\n",
       "      <td>275.7740</td>\n",
       "      <td>372.7527</td>\n",
       "      <td>403.5248</td>\n",
       "      <td>422.1746</td>\n",
       "    </tr>\n",
       "    <tr>\n",
       "      <th>...</th>\n",
       "      <td>...</td>\n",
       "      <td>...</td>\n",
       "      <td>...</td>\n",
       "      <td>...</td>\n",
       "      <td>...</td>\n",
       "      <td>...</td>\n",
       "      <td>...</td>\n",
       "      <td>...</td>\n",
       "      <td>...</td>\n",
       "      <td>...</td>\n",
       "      <td>...</td>\n",
       "      <td>...</td>\n",
       "      <td>...</td>\n",
       "      <td>...</td>\n",
       "      <td>...</td>\n",
       "      <td>...</td>\n",
       "      <td>...</td>\n",
       "      <td>...</td>\n",
       "      <td>...</td>\n",
       "      <td>...</td>\n",
       "      <td>...</td>\n",
       "    </tr>\n",
       "    <tr>\n",
       "      <th>485485</th>\n",
       "      <td>Vietnam</td>\n",
       "      <td>Female</td>\n",
       "      <td>Yes</td>\n",
       "      <td>15.83</td>\n",
       "      <td>No</td>\n",
       "      <td>Language of the test</td>\n",
       "      <td>NaN</td>\n",
       "      <td>NaN</td>\n",
       "      <td>NaN</td>\n",
       "      <td>477.1849</td>\n",
       "      <td>...</td>\n",
       "      <td>460.2272</td>\n",
       "      <td>476.1134</td>\n",
       "      <td>472.9362</td>\n",
       "      <td>472.1419</td>\n",
       "      <td>481.6736</td>\n",
       "      <td>559.8098</td>\n",
       "      <td>528.1052</td>\n",
       "      <td>519.7128</td>\n",
       "      <td>535.5651</td>\n",
       "      <td>538.3626</td>\n",
       "    </tr>\n",
       "    <tr>\n",
       "      <th>485486</th>\n",
       "      <td>Vietnam</td>\n",
       "      <td>Male</td>\n",
       "      <td>Yes</td>\n",
       "      <td>16.17</td>\n",
       "      <td>Yes</td>\n",
       "      <td>Language of the test</td>\n",
       "      <td>-0.2859</td>\n",
       "      <td>-0.1057</td>\n",
       "      <td>0.4297</td>\n",
       "      <td>518.9360</td>\n",
       "      <td>...</td>\n",
       "      <td>490.9325</td>\n",
       "      <td>479.7053</td>\n",
       "      <td>448.4294</td>\n",
       "      <td>565.5134</td>\n",
       "      <td>451.6372</td>\n",
       "      <td>538.7355</td>\n",
       "      <td>493.9761</td>\n",
       "      <td>493.0436</td>\n",
       "      <td>561.1153</td>\n",
       "      <td>535.0056</td>\n",
       "    </tr>\n",
       "    <tr>\n",
       "      <th>485487</th>\n",
       "      <td>Vietnam</td>\n",
       "      <td>Male</td>\n",
       "      <td>Yes</td>\n",
       "      <td>15.83</td>\n",
       "      <td>No</td>\n",
       "      <td>Language of the test</td>\n",
       "      <td>-0.9632</td>\n",
       "      <td>-0.1057</td>\n",
       "      <td>-0.5612</td>\n",
       "      <td>475.2376</td>\n",
       "      <td>...</td>\n",
       "      <td>462.6239</td>\n",
       "      <td>514.7503</td>\n",
       "      <td>434.5558</td>\n",
       "      <td>457.8122</td>\n",
       "      <td>511.5425</td>\n",
       "      <td>536.8706</td>\n",
       "      <td>571.3726</td>\n",
       "      <td>488.3812</td>\n",
       "      <td>548.9929</td>\n",
       "      <td>563.9127</td>\n",
       "    </tr>\n",
       "    <tr>\n",
       "      <th>485488</th>\n",
       "      <td>Vietnam</td>\n",
       "      <td>Male</td>\n",
       "      <td>Yes</td>\n",
       "      <td>15.83</td>\n",
       "      <td>No</td>\n",
       "      <td>Language of the test</td>\n",
       "      <td>-0.2859</td>\n",
       "      <td>0.2217</td>\n",
       "      <td>0.4297</td>\n",
       "      <td>550.9503</td>\n",
       "      <td>...</td>\n",
       "      <td>505.2873</td>\n",
       "      <td>522.1282</td>\n",
       "      <td>513.3068</td>\n",
       "      <td>528.5437</td>\n",
       "      <td>522.9301</td>\n",
       "      <td>511.0407</td>\n",
       "      <td>532.4879</td>\n",
       "      <td>524.0955</td>\n",
       "      <td>551.1376</td>\n",
       "      <td>514.7706</td>\n",
       "    </tr>\n",
       "    <tr>\n",
       "      <th>485489</th>\n",
       "      <td>Vietnam</td>\n",
       "      <td>Female</td>\n",
       "      <td>Yes</td>\n",
       "      <td>15.33</td>\n",
       "      <td>Yes</td>\n",
       "      <td>Language of the test</td>\n",
       "      <td>NaN</td>\n",
       "      <td>NaN</td>\n",
       "      <td>NaN</td>\n",
       "      <td>470.0187</td>\n",
       "      <td>...</td>\n",
       "      <td>532.3506</td>\n",
       "      <td>483.1034</td>\n",
       "      <td>479.9261</td>\n",
       "      <td>459.2741</td>\n",
       "      <td>488.6635</td>\n",
       "      <td>530.6229</td>\n",
       "      <td>473.7411</td>\n",
       "      <td>477.4711</td>\n",
       "      <td>477.4711</td>\n",
       "      <td>505.4457</td>\n",
       "    </tr>\n",
       "  </tbody>\n",
       "</table>\n",
       "<p>485490 rows × 24 columns</p>\n",
       "</div>"
      ],
      "text/plain": [
       "            CNT ST04Q01 ST26Q12    AGE ST26Q07               ST25Q01  \\\n",
       "0       Albania  Female     Yes  16.17      No  Language of the test   \n",
       "1       Albania  Female     Yes  16.17     Yes  Language of the test   \n",
       "2       Albania  Female     Yes  15.58     Yes  Language of the test   \n",
       "3       Albania  Female     Yes  15.67     Yes  Language of the test   \n",
       "4       Albania  Female     Yes  15.50     Yes  Language of the test   \n",
       "...         ...     ...     ...    ...     ...                   ...   \n",
       "485485  Vietnam  Female     Yes  15.83      No  Language of the test   \n",
       "485486  Vietnam    Male     Yes  16.17     Yes  Language of the test   \n",
       "485487  Vietnam    Male     Yes  15.83      No  Language of the test   \n",
       "485488  Vietnam    Male     Yes  15.83      No  Language of the test   \n",
       "485489  Vietnam  Female     Yes  15.33     Yes  Language of the test   \n",
       "\n",
       "        TCHBEHFA  TCHBEHSO  TCHBEHTD   PV1MATH  ...   PV1READ   PV2READ  \\\n",
       "0         1.3625    0.9374    0.4297  406.8469  ...  249.5762  254.3420   \n",
       "1            NaN       NaN       NaN  486.1427  ...  406.2936  349.8975   \n",
       "2            NaN       NaN       NaN  533.2684  ...  401.2100  404.3872   \n",
       "3         0.7644    3.3108    2.3916  412.2215  ...  547.3630  481.4353   \n",
       "4         0.7644    0.9374    0.4297  381.9209  ...  311.7707  141.7883   \n",
       "...          ...       ...       ...       ...  ...       ...       ...   \n",
       "485485       NaN       NaN       NaN  477.1849  ...  460.2272  476.1134   \n",
       "485486   -0.2859   -0.1057    0.4297  518.9360  ...  490.9325  479.7053   \n",
       "485487   -0.9632   -0.1057   -0.5612  475.2376  ...  462.6239  514.7503   \n",
       "485488   -0.2859    0.2217    0.4297  550.9503  ...  505.2873  522.1282   \n",
       "485489       NaN       NaN       NaN  470.0187  ...  532.3506  483.1034   \n",
       "\n",
       "         PV3READ   PV4READ   PV5READ   PV1SCIE   PV2SCIE   PV3SCIE   PV4SCIE  \\\n",
       "0       406.8496  175.7053  218.5981  341.7009  408.8400  348.2283  367.8105   \n",
       "1       400.7334  369.7553  396.7618  548.9929  471.5964  471.5964  443.6218   \n",
       "2       387.7067  431.3938  401.2100  499.6643  428.7952  492.2044  512.7191   \n",
       "3       461.5776  425.0393  471.9036  438.6796  481.5740  448.9370  474.1141   \n",
       "4       293.5015  272.8495  260.1405  361.5628  275.7740  372.7527  403.5248   \n",
       "...          ...       ...       ...       ...       ...       ...       ...   \n",
       "485485  472.9362  472.1419  481.6736  559.8098  528.1052  519.7128  535.5651   \n",
       "485486  448.4294  565.5134  451.6372  538.7355  493.9761  493.0436  561.1153   \n",
       "485487  434.5558  457.8122  511.5425  536.8706  571.3726  488.3812  548.9929   \n",
       "485488  513.3068  528.5437  522.9301  511.0407  532.4879  524.0955  551.1376   \n",
       "485489  479.9261  459.2741  488.6635  530.6229  473.7411  477.4711  477.4711   \n",
       "\n",
       "         PV5SCIE  \n",
       "0       392.9877  \n",
       "1       454.8116  \n",
       "2       499.6643  \n",
       "3       426.5573  \n",
       "4       422.1746  \n",
       "...          ...  \n",
       "485485  538.3626  \n",
       "485486  535.0056  \n",
       "485487  563.9127  \n",
       "485488  514.7706  \n",
       "485489  505.4457  \n",
       "\n",
       "[485490 rows x 24 columns]"
      ]
     },
     "execution_count": 12,
     "metadata": {},
     "output_type": "execute_result"
    }
   ],
   "source": [
    "# inspect \n",
    "pisa_2012_clean"
   ]
  },
  {
   "cell_type": "code",
   "execution_count": 13,
   "metadata": {
    "slideshow": {
     "slide_type": "skip"
    }
   },
   "outputs": [
    {
     "name": "stdout",
     "output_type": "stream",
     "text": [
      "<class 'pandas.core.frame.DataFrame'>\n",
      "RangeIndex: 485490 entries, 0 to 485489\n",
      "Data columns (total 24 columns):\n",
      " #   Column    Non-Null Count   Dtype  \n",
      "---  ------    --------------   -----  \n",
      " 0   CNT       485490 non-null  object \n",
      " 1   ST04Q01   485490 non-null  object \n",
      " 2   ST26Q12   474039 non-null  object \n",
      " 3   AGE       485374 non-null  float64\n",
      " 4   ST26Q07   465860 non-null  object \n",
      " 5   ST25Q01   465496 non-null  object \n",
      " 6   TCHBEHFA  314678 non-null  float64\n",
      " 7   TCHBEHSO  315114 non-null  float64\n",
      " 8   TCHBEHTD  315519 non-null  float64\n",
      " 9   PV1MATH   485490 non-null  float64\n",
      " 10  PV2MATH   485490 non-null  float64\n",
      " 11  PV3MATH   485490 non-null  float64\n",
      " 12  PV4MATH   485490 non-null  float64\n",
      " 13  PV5MATH   485490 non-null  float64\n",
      " 14  PV1READ   485490 non-null  float64\n",
      " 15  PV2READ   485490 non-null  float64\n",
      " 16  PV3READ   485490 non-null  float64\n",
      " 17  PV4READ   485490 non-null  float64\n",
      " 18  PV5READ   485490 non-null  float64\n",
      " 19  PV1SCIE   485490 non-null  float64\n",
      " 20  PV2SCIE   485490 non-null  float64\n",
      " 21  PV3SCIE   485490 non-null  float64\n",
      " 22  PV4SCIE   485490 non-null  float64\n",
      " 23  PV5SCIE   485490 non-null  float64\n",
      "dtypes: float64(19), object(5)\n",
      "memory usage: 88.9+ MB\n"
     ]
    }
   ],
   "source": [
    "# doublecheck \n",
    "pisa_2012_clean.info()"
   ]
  },
  {
   "cell_type": "markdown",
   "metadata": {
    "slideshow": {
     "slide_type": "skip"
    }
   },
   "source": [
    "#### I'm looking at the column above and my goal is to decrease the number of columns."
   ]
  },
  {
   "cell_type": "markdown",
   "metadata": {
    "slideshow": {
     "slide_type": "skip"
    }
   },
   "source": [
    "Let's first replace the missing values of in AGE column with the average."
   ]
  },
  {
   "cell_type": "code",
   "execution_count": 14,
   "metadata": {
    "slideshow": {
     "slide_type": "skip"
    }
   },
   "outputs": [
    {
     "name": "stdout",
     "output_type": "stream",
     "text": [
      "<class 'pandas.core.frame.DataFrame'>\n",
      "RangeIndex: 485490 entries, 0 to 485489\n",
      "Data columns (total 24 columns):\n",
      " #   Column    Non-Null Count   Dtype  \n",
      "---  ------    --------------   -----  \n",
      " 0   CNT       485490 non-null  object \n",
      " 1   ST04Q01   485490 non-null  object \n",
      " 2   ST26Q12   474039 non-null  object \n",
      " 3   AGE       485490 non-null  float64\n",
      " 4   ST26Q07   465860 non-null  object \n",
      " 5   ST25Q01   465496 non-null  object \n",
      " 6   TCHBEHFA  314678 non-null  float64\n",
      " 7   TCHBEHSO  315114 non-null  float64\n",
      " 8   TCHBEHTD  315519 non-null  float64\n",
      " 9   PV1MATH   485490 non-null  float64\n",
      " 10  PV2MATH   485490 non-null  float64\n",
      " 11  PV3MATH   485490 non-null  float64\n",
      " 12  PV4MATH   485490 non-null  float64\n",
      " 13  PV5MATH   485490 non-null  float64\n",
      " 14  PV1READ   485490 non-null  float64\n",
      " 15  PV2READ   485490 non-null  float64\n",
      " 16  PV3READ   485490 non-null  float64\n",
      " 17  PV4READ   485490 non-null  float64\n",
      " 18  PV5READ   485490 non-null  float64\n",
      " 19  PV1SCIE   485490 non-null  float64\n",
      " 20  PV2SCIE   485490 non-null  float64\n",
      " 21  PV3SCIE   485490 non-null  float64\n",
      " 22  PV4SCIE   485490 non-null  float64\n",
      " 23  PV5SCIE   485490 non-null  float64\n",
      "dtypes: float64(19), object(5)\n",
      "memory usage: 88.9+ MB\n"
     ]
    }
   ],
   "source": [
    "#https://docs.scipy.org/doc/numpy-1.13.0/reference/generated/numpy.isfinite.html\n",
    "pisa_2012_clean.loc[np.isfinite(pisa_2012_clean['AGE']) == False, 'AGE'] = pisa_2012_clean['AGE'].mean()\n",
    "pisa_2012_clean.info()"
   ]
  },
  {
   "cell_type": "markdown",
   "metadata": {
    "slideshow": {
     "slide_type": "skip"
    }
   },
   "source": [
    "Now, let's do the same for the three Teacher Behaviors."
   ]
  },
  {
   "cell_type": "code",
   "execution_count": 15,
   "metadata": {
    "slideshow": {
     "slide_type": "skip"
    }
   },
   "outputs": [
    {
     "name": "stdout",
     "output_type": "stream",
     "text": [
      "<class 'pandas.core.frame.DataFrame'>\n",
      "RangeIndex: 485490 entries, 0 to 485489\n",
      "Data columns (total 24 columns):\n",
      " #   Column    Non-Null Count   Dtype  \n",
      "---  ------    --------------   -----  \n",
      " 0   CNT       485490 non-null  object \n",
      " 1   ST04Q01   485490 non-null  object \n",
      " 2   ST26Q12   474039 non-null  object \n",
      " 3   AGE       485490 non-null  float64\n",
      " 4   ST26Q07   465860 non-null  object \n",
      " 5   ST25Q01   465496 non-null  object \n",
      " 6   TCHBEHFA  485490 non-null  float64\n",
      " 7   TCHBEHSO  485490 non-null  float64\n",
      " 8   TCHBEHTD  485490 non-null  float64\n",
      " 9   PV1MATH   485490 non-null  float64\n",
      " 10  PV2MATH   485490 non-null  float64\n",
      " 11  PV3MATH   485490 non-null  float64\n",
      " 12  PV4MATH   485490 non-null  float64\n",
      " 13  PV5MATH   485490 non-null  float64\n",
      " 14  PV1READ   485490 non-null  float64\n",
      " 15  PV2READ   485490 non-null  float64\n",
      " 16  PV3READ   485490 non-null  float64\n",
      " 17  PV4READ   485490 non-null  float64\n",
      " 18  PV5READ   485490 non-null  float64\n",
      " 19  PV1SCIE   485490 non-null  float64\n",
      " 20  PV2SCIE   485490 non-null  float64\n",
      " 21  PV3SCIE   485490 non-null  float64\n",
      " 22  PV4SCIE   485490 non-null  float64\n",
      " 23  PV5SCIE   485490 non-null  float64\n",
      "dtypes: float64(19), object(5)\n",
      "memory usage: 88.9+ MB\n"
     ]
    }
   ],
   "source": [
    "# https://docs.scipy.org/doc/numpy-1.13.0/reference/generated/numpy.isfinite.html\n",
    "# repeat the same process above for each teacher behavior \n",
    "pisa_2012_clean.loc[np.isfinite(pisa_2012_clean['TCHBEHFA']) == False, 'TCHBEHFA'] = pisa_2012_clean['TCHBEHFA'].mean()\n",
    "pisa_2012_clean.loc[np.isfinite(pisa_2012_clean['TCHBEHSO']) == False, 'TCHBEHSO'] = pisa_2012_clean['TCHBEHSO'].mean()\n",
    "pisa_2012_clean.loc[np.isfinite(pisa_2012_clean['TCHBEHTD']) == False, 'TCHBEHTD'] = pisa_2012_clean['TCHBEHTD'].mean()\n",
    "pisa_2012_clean.info()"
   ]
  },
  {
   "cell_type": "markdown",
   "metadata": {
    "slideshow": {
     "slide_type": "skip"
    }
   },
   "source": [
    "Now we have all the missing values filled in, we can organize them. Let's first look at our plausible values of each subject. We can create a separate column for each subject (Math, Reading, and Science) and each column will contain the mean value."
   ]
  },
  {
   "cell_type": "code",
   "execution_count": 16,
   "metadata": {
    "slideshow": {
     "slide_type": "skip"
    }
   },
   "outputs": [],
   "source": [
    "# we have 5 plausible values per subject, so add them in their own respective subject and divide by 5 \n",
    "# store each results in its own respective subject column \n",
    "pisa_2012_clean['Math Score'] = (pisa_2012_clean['PV1MATH'] + pisa_2012_clean['PV2MATH'] + pisa_2012_clean['PV3MATH']+ pisa_2012_clean['PV4MATH'] + pisa_2012_clean['PV5MATH']) / 5\n",
    "pisa_2012_clean['Reading Score'] = (pisa_2012_clean['PV1READ'] + pisa_2012_clean['PV2READ'] + pisa_2012_clean['PV3READ']+ pisa_2012_clean['PV4READ'] + pisa_2012_clean['PV5READ']) / 5\n",
    "pisa_2012_clean['Science Score'] = (pisa_2012_clean['PV1SCIE'] + pisa_2012_clean['PV2SCIE'] + pisa_2012_clean['PV3SCIE']+ pisa_2012_clean['PV4SCIE'] + pisa_2012_clean['PV5SCIE']) / 5"
   ]
  },
  {
   "cell_type": "code",
   "execution_count": 17,
   "metadata": {
    "slideshow": {
     "slide_type": "skip"
    }
   },
   "outputs": [
    {
     "name": "stdout",
     "output_type": "stream",
     "text": [
      "<class 'pandas.core.frame.DataFrame'>\n",
      "RangeIndex: 485490 entries, 0 to 485489\n",
      "Data columns (total 27 columns):\n",
      " #   Column         Non-Null Count   Dtype  \n",
      "---  ------         --------------   -----  \n",
      " 0   CNT            485490 non-null  object \n",
      " 1   ST04Q01        485490 non-null  object \n",
      " 2   ST26Q12        474039 non-null  object \n",
      " 3   AGE            485490 non-null  float64\n",
      " 4   ST26Q07        465860 non-null  object \n",
      " 5   ST25Q01        465496 non-null  object \n",
      " 6   TCHBEHFA       485490 non-null  float64\n",
      " 7   TCHBEHSO       485490 non-null  float64\n",
      " 8   TCHBEHTD       485490 non-null  float64\n",
      " 9   PV1MATH        485490 non-null  float64\n",
      " 10  PV2MATH        485490 non-null  float64\n",
      " 11  PV3MATH        485490 non-null  float64\n",
      " 12  PV4MATH        485490 non-null  float64\n",
      " 13  PV5MATH        485490 non-null  float64\n",
      " 14  PV1READ        485490 non-null  float64\n",
      " 15  PV2READ        485490 non-null  float64\n",
      " 16  PV3READ        485490 non-null  float64\n",
      " 17  PV4READ        485490 non-null  float64\n",
      " 18  PV5READ        485490 non-null  float64\n",
      " 19  PV1SCIE        485490 non-null  float64\n",
      " 20  PV2SCIE        485490 non-null  float64\n",
      " 21  PV3SCIE        485490 non-null  float64\n",
      " 22  PV4SCIE        485490 non-null  float64\n",
      " 23  PV5SCIE        485490 non-null  float64\n",
      " 24  Math Score     485490 non-null  float64\n",
      " 25  Reading Score  485490 non-null  float64\n",
      " 26  Science Score  485490 non-null  float64\n",
      "dtypes: float64(22), object(5)\n",
      "memory usage: 100.0+ MB\n"
     ]
    }
   ],
   "source": [
    "pisa_2012_clean.info()"
   ]
  },
  {
   "cell_type": "code",
   "execution_count": 18,
   "metadata": {
    "slideshow": {
     "slide_type": "skip"
    }
   },
   "outputs": [
    {
     "data": {
      "text/html": [
       "<div>\n",
       "<style scoped>\n",
       "    .dataframe tbody tr th:only-of-type {\n",
       "        vertical-align: middle;\n",
       "    }\n",
       "\n",
       "    .dataframe tbody tr th {\n",
       "        vertical-align: top;\n",
       "    }\n",
       "\n",
       "    .dataframe thead th {\n",
       "        text-align: right;\n",
       "    }\n",
       "</style>\n",
       "<table border=\"1\" class=\"dataframe\">\n",
       "  <thead>\n",
       "    <tr style=\"text-align: right;\">\n",
       "      <th></th>\n",
       "      <th>CNT</th>\n",
       "      <th>ST04Q01</th>\n",
       "      <th>ST26Q12</th>\n",
       "      <th>AGE</th>\n",
       "      <th>ST26Q07</th>\n",
       "      <th>ST25Q01</th>\n",
       "      <th>TCHBEHFA</th>\n",
       "      <th>TCHBEHSO</th>\n",
       "      <th>TCHBEHTD</th>\n",
       "      <th>Math Score</th>\n",
       "      <th>Reading Score</th>\n",
       "      <th>Science Score</th>\n",
       "    </tr>\n",
       "  </thead>\n",
       "  <tbody>\n",
       "    <tr>\n",
       "      <th>0</th>\n",
       "      <td>Albania</td>\n",
       "      <td>Female</td>\n",
       "      <td>Yes</td>\n",
       "      <td>16.17</td>\n",
       "      <td>No</td>\n",
       "      <td>Language of the test</td>\n",
       "      <td>1.36250</td>\n",
       "      <td>0.937400</td>\n",
       "      <td>0.429700</td>\n",
       "      <td>366.18634</td>\n",
       "      <td>261.01424</td>\n",
       "      <td>371.91348</td>\n",
       "    </tr>\n",
       "    <tr>\n",
       "      <th>1</th>\n",
       "      <td>Albania</td>\n",
       "      <td>Female</td>\n",
       "      <td>Yes</td>\n",
       "      <td>16.17</td>\n",
       "      <td>Yes</td>\n",
       "      <td>Language of the test</td>\n",
       "      <td>0.13793</td>\n",
       "      <td>0.209052</td>\n",
       "      <td>0.147423</td>\n",
       "      <td>470.56396</td>\n",
       "      <td>384.68832</td>\n",
       "      <td>478.12382</td>\n",
       "    </tr>\n",
       "    <tr>\n",
       "      <th>2</th>\n",
       "      <td>Albania</td>\n",
       "      <td>Female</td>\n",
       "      <td>Yes</td>\n",
       "      <td>15.58</td>\n",
       "      <td>Yes</td>\n",
       "      <td>Language of the test</td>\n",
       "      <td>0.13793</td>\n",
       "      <td>0.209052</td>\n",
       "      <td>0.147423</td>\n",
       "      <td>505.53824</td>\n",
       "      <td>405.18154</td>\n",
       "      <td>486.60946</td>\n",
       "    </tr>\n",
       "    <tr>\n",
       "      <th>3</th>\n",
       "      <td>Albania</td>\n",
       "      <td>Female</td>\n",
       "      <td>Yes</td>\n",
       "      <td>15.67</td>\n",
       "      <td>Yes</td>\n",
       "      <td>Language of the test</td>\n",
       "      <td>0.76440</td>\n",
       "      <td>3.310800</td>\n",
       "      <td>2.391600</td>\n",
       "      <td>449.45476</td>\n",
       "      <td>477.46376</td>\n",
       "      <td>453.97240</td>\n",
       "    </tr>\n",
       "    <tr>\n",
       "      <th>4</th>\n",
       "      <td>Albania</td>\n",
       "      <td>Female</td>\n",
       "      <td>Yes</td>\n",
       "      <td>15.50</td>\n",
       "      <td>Yes</td>\n",
       "      <td>Language of the test</td>\n",
       "      <td>0.76440</td>\n",
       "      <td>0.937400</td>\n",
       "      <td>0.429700</td>\n",
       "      <td>385.50398</td>\n",
       "      <td>256.01010</td>\n",
       "      <td>367.15778</td>\n",
       "    </tr>\n",
       "    <tr>\n",
       "      <th>...</th>\n",
       "      <td>...</td>\n",
       "      <td>...</td>\n",
       "      <td>...</td>\n",
       "      <td>...</td>\n",
       "      <td>...</td>\n",
       "      <td>...</td>\n",
       "      <td>...</td>\n",
       "      <td>...</td>\n",
       "      <td>...</td>\n",
       "      <td>...</td>\n",
       "      <td>...</td>\n",
       "      <td>...</td>\n",
       "    </tr>\n",
       "    <tr>\n",
       "      <th>485485</th>\n",
       "      <td>Vietnam</td>\n",
       "      <td>Female</td>\n",
       "      <td>Yes</td>\n",
       "      <td>15.83</td>\n",
       "      <td>No</td>\n",
       "      <td>Language of the test</td>\n",
       "      <td>0.13793</td>\n",
       "      <td>0.209052</td>\n",
       "      <td>0.147423</td>\n",
       "      <td>486.22058</td>\n",
       "      <td>472.61846</td>\n",
       "      <td>536.31110</td>\n",
       "    </tr>\n",
       "    <tr>\n",
       "      <th>485486</th>\n",
       "      <td>Vietnam</td>\n",
       "      <td>Male</td>\n",
       "      <td>Yes</td>\n",
       "      <td>16.17</td>\n",
       "      <td>Yes</td>\n",
       "      <td>Language of the test</td>\n",
       "      <td>-0.28590</td>\n",
       "      <td>-0.105700</td>\n",
       "      <td>0.429700</td>\n",
       "      <td>529.21794</td>\n",
       "      <td>487.24356</td>\n",
       "      <td>524.37522</td>\n",
       "    </tr>\n",
       "    <tr>\n",
       "      <th>485487</th>\n",
       "      <td>Vietnam</td>\n",
       "      <td>Male</td>\n",
       "      <td>Yes</td>\n",
       "      <td>15.83</td>\n",
       "      <td>No</td>\n",
       "      <td>Language of the test</td>\n",
       "      <td>-0.96320</td>\n",
       "      <td>-0.105700</td>\n",
       "      <td>-0.561200</td>\n",
       "      <td>486.29850</td>\n",
       "      <td>476.25694</td>\n",
       "      <td>541.90600</td>\n",
       "    </tr>\n",
       "    <tr>\n",
       "      <th>485488</th>\n",
       "      <td>Vietnam</td>\n",
       "      <td>Male</td>\n",
       "      <td>Yes</td>\n",
       "      <td>15.83</td>\n",
       "      <td>No</td>\n",
       "      <td>Language of the test</td>\n",
       "      <td>-0.28590</td>\n",
       "      <td>0.221700</td>\n",
       "      <td>0.429700</td>\n",
       "      <td>522.90856</td>\n",
       "      <td>518.43922</td>\n",
       "      <td>526.70646</td>\n",
       "    </tr>\n",
       "    <tr>\n",
       "      <th>485489</th>\n",
       "      <td>Vietnam</td>\n",
       "      <td>Female</td>\n",
       "      <td>Yes</td>\n",
       "      <td>15.33</td>\n",
       "      <td>Yes</td>\n",
       "      <td>Language of the test</td>\n",
       "      <td>0.13793</td>\n",
       "      <td>0.209052</td>\n",
       "      <td>0.147423</td>\n",
       "      <td>454.43994</td>\n",
       "      <td>488.66354</td>\n",
       "      <td>492.95038</td>\n",
       "    </tr>\n",
       "  </tbody>\n",
       "</table>\n",
       "<p>485490 rows × 12 columns</p>\n",
       "</div>"
      ],
      "text/plain": [
       "            CNT ST04Q01 ST26Q12    AGE ST26Q07               ST25Q01  \\\n",
       "0       Albania  Female     Yes  16.17      No  Language of the test   \n",
       "1       Albania  Female     Yes  16.17     Yes  Language of the test   \n",
       "2       Albania  Female     Yes  15.58     Yes  Language of the test   \n",
       "3       Albania  Female     Yes  15.67     Yes  Language of the test   \n",
       "4       Albania  Female     Yes  15.50     Yes  Language of the test   \n",
       "...         ...     ...     ...    ...     ...                   ...   \n",
       "485485  Vietnam  Female     Yes  15.83      No  Language of the test   \n",
       "485486  Vietnam    Male     Yes  16.17     Yes  Language of the test   \n",
       "485487  Vietnam    Male     Yes  15.83      No  Language of the test   \n",
       "485488  Vietnam    Male     Yes  15.83      No  Language of the test   \n",
       "485489  Vietnam  Female     Yes  15.33     Yes  Language of the test   \n",
       "\n",
       "        TCHBEHFA  TCHBEHSO  TCHBEHTD  Math Score  Reading Score  Science Score  \n",
       "0        1.36250  0.937400  0.429700   366.18634      261.01424      371.91348  \n",
       "1        0.13793  0.209052  0.147423   470.56396      384.68832      478.12382  \n",
       "2        0.13793  0.209052  0.147423   505.53824      405.18154      486.60946  \n",
       "3        0.76440  3.310800  2.391600   449.45476      477.46376      453.97240  \n",
       "4        0.76440  0.937400  0.429700   385.50398      256.01010      367.15778  \n",
       "...          ...       ...       ...         ...            ...            ...  \n",
       "485485   0.13793  0.209052  0.147423   486.22058      472.61846      536.31110  \n",
       "485486  -0.28590 -0.105700  0.429700   529.21794      487.24356      524.37522  \n",
       "485487  -0.96320 -0.105700 -0.561200   486.29850      476.25694      541.90600  \n",
       "485488  -0.28590  0.221700  0.429700   522.90856      518.43922      526.70646  \n",
       "485489   0.13793  0.209052  0.147423   454.43994      488.66354      492.95038  \n",
       "\n",
       "[485490 rows x 12 columns]"
      ]
     },
     "execution_count": 18,
     "metadata": {},
     "output_type": "execute_result"
    }
   ],
   "source": [
    "# now we can drop the columns\n",
    "pisa_2012_clean.drop(pisa_2012_clean.iloc[:, 9:24], inplace = True, axis = 1) \n",
    "pisa_2012_clean"
   ]
  },
  {
   "cell_type": "code",
   "execution_count": 19,
   "metadata": {
    "slideshow": {
     "slide_type": "skip"
    }
   },
   "outputs": [
    {
     "name": "stdout",
     "output_type": "stream",
     "text": [
      "<class 'pandas.core.frame.DataFrame'>\n",
      "RangeIndex: 485490 entries, 0 to 485489\n",
      "Data columns (total 12 columns):\n",
      " #   Column         Non-Null Count   Dtype  \n",
      "---  ------         --------------   -----  \n",
      " 0   CNT            485490 non-null  object \n",
      " 1   ST04Q01        485490 non-null  object \n",
      " 2   ST26Q12        474039 non-null  object \n",
      " 3   AGE            485490 non-null  float64\n",
      " 4   ST26Q07        465860 non-null  object \n",
      " 5   ST25Q01        465496 non-null  object \n",
      " 6   TCHBEHFA       485490 non-null  float64\n",
      " 7   TCHBEHSO       485490 non-null  float64\n",
      " 8   TCHBEHTD       485490 non-null  float64\n",
      " 9   Math Score     485490 non-null  float64\n",
      " 10  Reading Score  485490 non-null  float64\n",
      " 11  Science Score  485490 non-null  float64\n",
      "dtypes: float64(7), object(5)\n",
      "memory usage: 44.4+ MB\n"
     ]
    }
   ],
   "source": [
    "# double check\n",
    "pisa_2012_clean.info()"
   ]
  },
  {
   "cell_type": "markdown",
   "metadata": {
    "slideshow": {
     "slide_type": "skip"
    }
   },
   "source": [
    "#### Getting a long. Now, although the three Teacher Behavior evaluations/scores may seem like they can be grouped but that's not the case. This is because they aren't plausible values like the test subjects values we just cleaned up. These three Teacher Behavior scores measured a specific teaching style which will be explained further.\n"
   ]
  },
  {
   "cell_type": "markdown",
   "metadata": {
    "slideshow": {
     "slide_type": "skip"
    }
   },
   "source": [
    "Let's fill in the missing values for the three columns below as unkown"
   ]
  },
  {
   "cell_type": "code",
   "execution_count": 20,
   "metadata": {
    "slideshow": {
     "slide_type": "skip"
    }
   },
   "outputs": [],
   "source": [
    "# replace all NaN values for Dictionary as NA\n",
    "pisa_2012_clean.loc[pisa_2012_clean['ST26Q12'].isna() == True,'ST26Q12'] = 'NA'"
   ]
  },
  {
   "cell_type": "code",
   "execution_count": 21,
   "metadata": {
    "slideshow": {
     "slide_type": "skip"
    }
   },
   "outputs": [],
   "source": [
    "# replace all NaN values for Literature as NA\n",
    "pisa_2012_clean.loc[pisa_2012_clean['ST26Q07'].isna() == True,'ST26Q07'] = 'NA'"
   ]
  },
  {
   "cell_type": "code",
   "execution_count": 22,
   "metadata": {
    "slideshow": {
     "slide_type": "skip"
    }
   },
   "outputs": [],
   "source": [
    "# replace all Nan values for International Language at Home as NA\n",
    "pisa_2012_clean.loc[pisa_2012_clean['ST25Q01'].isna() == True,'ST25Q01'] = 'NA'"
   ]
  },
  {
   "cell_type": "markdown",
   "metadata": {
    "slideshow": {
     "slide_type": "skip"
    }
   },
   "source": [
    "We can change the default variable names for the sake of the project."
   ]
  },
  {
   "cell_type": "code",
   "execution_count": 23,
   "metadata": {
    "slideshow": {
     "slide_type": "skip"
    }
   },
   "outputs": [],
   "source": [
    "# https://www.oecd.org/pisa/pisaproducts/PISA%202012%20Technical%20Report_Chapter%2016.pdf\n",
    "# rename the column names \n",
    "pisa_2012_clean.rename({'CNT':'Country',\n",
    "                        'AGE':'Age',\n",
    "                        'ST04Q01':'Gender',\n",
    "                        'ST26Q12': 'Dictionary',\n",
    "                        'ST26Q07': 'Literature',\n",
    "                        'ST25Q01': 'Test Language', # IT SHOWS IF THE STUDENT TOOK THE TEST IN THEIR NATIVE TOUNGE \n",
    "                        'TCHBEHFA':'Formative Assessment',\n",
    "                        'TCHBEHSO' :'Student Orientation',\n",
    "                        'TCHBEHTD' : 'Teacher-Directed Instruction'}, axis = 'columns', inplace = True)"
   ]
  },
  {
   "cell_type": "code",
   "execution_count": 24,
   "metadata": {
    "slideshow": {
     "slide_type": "skip"
    }
   },
   "outputs": [
    {
     "data": {
      "text/html": [
       "<div>\n",
       "<style scoped>\n",
       "    .dataframe tbody tr th:only-of-type {\n",
       "        vertical-align: middle;\n",
       "    }\n",
       "\n",
       "    .dataframe tbody tr th {\n",
       "        vertical-align: top;\n",
       "    }\n",
       "\n",
       "    .dataframe thead th {\n",
       "        text-align: right;\n",
       "    }\n",
       "</style>\n",
       "<table border=\"1\" class=\"dataframe\">\n",
       "  <thead>\n",
       "    <tr style=\"text-align: right;\">\n",
       "      <th></th>\n",
       "      <th>Country</th>\n",
       "      <th>Gender</th>\n",
       "      <th>Dictionary</th>\n",
       "      <th>Age</th>\n",
       "      <th>Literature</th>\n",
       "      <th>Test Language</th>\n",
       "      <th>Formative Assessment</th>\n",
       "      <th>Student Orientation</th>\n",
       "      <th>Teacher-Directed Instruction</th>\n",
       "      <th>Math Score</th>\n",
       "      <th>Reading Score</th>\n",
       "      <th>Science Score</th>\n",
       "    </tr>\n",
       "  </thead>\n",
       "  <tbody>\n",
       "    <tr>\n",
       "      <th>104882</th>\n",
       "      <td>Switzerland</td>\n",
       "      <td>Male</td>\n",
       "      <td>Yes</td>\n",
       "      <td>15.75</td>\n",
       "      <td>No</td>\n",
       "      <td>Language of the test</td>\n",
       "      <td>0.13793</td>\n",
       "      <td>0.209052</td>\n",
       "      <td>0.147423</td>\n",
       "      <td>635.15346</td>\n",
       "      <td>547.54984</td>\n",
       "      <td>600.46624</td>\n",
       "    </tr>\n",
       "    <tr>\n",
       "      <th>363417</th>\n",
       "      <td>Netherlands</td>\n",
       "      <td>Male</td>\n",
       "      <td>No</td>\n",
       "      <td>15.42</td>\n",
       "      <td>No</td>\n",
       "      <td>Language of the test</td>\n",
       "      <td>-0.28590</td>\n",
       "      <td>0.221700</td>\n",
       "      <td>-0.320400</td>\n",
       "      <td>475.78284</td>\n",
       "      <td>414.98834</td>\n",
       "      <td>446.51248</td>\n",
       "    </tr>\n",
       "    <tr>\n",
       "      <th>191380</th>\n",
       "      <td>United Kingdom</td>\n",
       "      <td>Female</td>\n",
       "      <td>Yes</td>\n",
       "      <td>16.00</td>\n",
       "      <td>No</td>\n",
       "      <td>Language of the test</td>\n",
       "      <td>-0.28590</td>\n",
       "      <td>-1.599900</td>\n",
       "      <td>-1.068500</td>\n",
       "      <td>419.38776</td>\n",
       "      <td>496.28890</td>\n",
       "      <td>492.48414</td>\n",
       "    </tr>\n",
       "    <tr>\n",
       "      <th>162313</th>\n",
       "      <td>Spain</td>\n",
       "      <td>Male</td>\n",
       "      <td>Yes</td>\n",
       "      <td>15.58</td>\n",
       "      <td>No</td>\n",
       "      <td>Other language</td>\n",
       "      <td>-0.28590</td>\n",
       "      <td>0.221700</td>\n",
       "      <td>-0.561200</td>\n",
       "      <td>461.13882</td>\n",
       "      <td>491.81466</td>\n",
       "      <td>500.87654</td>\n",
       "    </tr>\n",
       "    <tr>\n",
       "      <th>441212</th>\n",
       "      <td>Slovenia</td>\n",
       "      <td>Female</td>\n",
       "      <td>Yes</td>\n",
       "      <td>15.33</td>\n",
       "      <td>No</td>\n",
       "      <td>Language of the test</td>\n",
       "      <td>0.25090</td>\n",
       "      <td>1.382300</td>\n",
       "      <td>0.722800</td>\n",
       "      <td>507.09612</td>\n",
       "      <td>545.29782</td>\n",
       "      <td>516.91530</td>\n",
       "    </tr>\n",
       "    <tr>\n",
       "      <th>196608</th>\n",
       "      <td>United Kingdom</td>\n",
       "      <td>Male</td>\n",
       "      <td>Yes</td>\n",
       "      <td>15.33</td>\n",
       "      <td>No</td>\n",
       "      <td>Language of the test</td>\n",
       "      <td>-0.59450</td>\n",
       "      <td>-0.580900</td>\n",
       "      <td>-0.320400</td>\n",
       "      <td>456.38730</td>\n",
       "      <td>471.68584</td>\n",
       "      <td>489.03396</td>\n",
       "    </tr>\n",
       "    <tr>\n",
       "      <th>391044</th>\n",
       "      <td>Qatar</td>\n",
       "      <td>Male</td>\n",
       "      <td>Yes</td>\n",
       "      <td>15.33</td>\n",
       "      <td>Yes</td>\n",
       "      <td>Language of the test</td>\n",
       "      <td>0.50540</td>\n",
       "      <td>0.485500</td>\n",
       "      <td>-0.561200</td>\n",
       "      <td>492.53000</td>\n",
       "      <td>439.92880</td>\n",
       "      <td>479.52258</td>\n",
       "    </tr>\n",
       "    <tr>\n",
       "      <th>3977</th>\n",
       "      <td>Albania</td>\n",
       "      <td>Female</td>\n",
       "      <td>Yes</td>\n",
       "      <td>15.67</td>\n",
       "      <td>Yes</td>\n",
       "      <td>Language of the test</td>\n",
       "      <td>1.36250</td>\n",
       "      <td>0.221700</td>\n",
       "      <td>0.722800</td>\n",
       "      <td>143.41018</td>\n",
       "      <td>156.08590</td>\n",
       "      <td>147.46362</td>\n",
       "    </tr>\n",
       "    <tr>\n",
       "      <th>159810</th>\n",
       "      <td>Spain</td>\n",
       "      <td>Male</td>\n",
       "      <td>Yes</td>\n",
       "      <td>15.67</td>\n",
       "      <td>No</td>\n",
       "      <td>Language of the test</td>\n",
       "      <td>-0.00920</td>\n",
       "      <td>-0.580900</td>\n",
       "      <td>-0.079800</td>\n",
       "      <td>660.23524</td>\n",
       "      <td>554.52678</td>\n",
       "      <td>555.52032</td>\n",
       "    </tr>\n",
       "    <tr>\n",
       "      <th>154903</th>\n",
       "      <td>Spain</td>\n",
       "      <td>Male</td>\n",
       "      <td>Yes</td>\n",
       "      <td>15.75</td>\n",
       "      <td>No</td>\n",
       "      <td>Language of the test</td>\n",
       "      <td>0.13793</td>\n",
       "      <td>0.209052</td>\n",
       "      <td>0.147423</td>\n",
       "      <td>448.36424</td>\n",
       "      <td>399.51078</td>\n",
       "      <td>385.62106</td>\n",
       "    </tr>\n",
       "  </tbody>\n",
       "</table>\n",
       "</div>"
      ],
      "text/plain": [
       "               Country  Gender Dictionary    Age Literature  \\\n",
       "104882     Switzerland    Male        Yes  15.75         No   \n",
       "363417     Netherlands    Male         No  15.42         No   \n",
       "191380  United Kingdom  Female        Yes  16.00         No   \n",
       "162313           Spain    Male        Yes  15.58         No   \n",
       "441212        Slovenia  Female        Yes  15.33         No   \n",
       "196608  United Kingdom    Male        Yes  15.33         No   \n",
       "391044           Qatar    Male        Yes  15.33        Yes   \n",
       "3977           Albania  Female        Yes  15.67        Yes   \n",
       "159810           Spain    Male        Yes  15.67         No   \n",
       "154903           Spain    Male        Yes  15.75         No   \n",
       "\n",
       "               Test Language  Formative Assessment  Student Orientation  \\\n",
       "104882  Language of the test               0.13793             0.209052   \n",
       "363417  Language of the test              -0.28590             0.221700   \n",
       "191380  Language of the test              -0.28590            -1.599900   \n",
       "162313        Other language              -0.28590             0.221700   \n",
       "441212  Language of the test               0.25090             1.382300   \n",
       "196608  Language of the test              -0.59450            -0.580900   \n",
       "391044  Language of the test               0.50540             0.485500   \n",
       "3977    Language of the test               1.36250             0.221700   \n",
       "159810  Language of the test              -0.00920            -0.580900   \n",
       "154903  Language of the test               0.13793             0.209052   \n",
       "\n",
       "        Teacher-Directed Instruction  Math Score  Reading Score  Science Score  \n",
       "104882                      0.147423   635.15346      547.54984      600.46624  \n",
       "363417                     -0.320400   475.78284      414.98834      446.51248  \n",
       "191380                     -1.068500   419.38776      496.28890      492.48414  \n",
       "162313                     -0.561200   461.13882      491.81466      500.87654  \n",
       "441212                      0.722800   507.09612      545.29782      516.91530  \n",
       "196608                     -0.320400   456.38730      471.68584      489.03396  \n",
       "391044                     -0.561200   492.53000      439.92880      479.52258  \n",
       "3977                        0.722800   143.41018      156.08590      147.46362  \n",
       "159810                     -0.079800   660.23524      554.52678      555.52032  \n",
       "154903                      0.147423   448.36424      399.51078      385.62106  "
      ]
     },
     "execution_count": 24,
     "metadata": {},
     "output_type": "execute_result"
    }
   ],
   "source": [
    "# check \n",
    "pisa_2012_clean.sample(10)"
   ]
  },
  {
   "cell_type": "code",
   "execution_count": 25,
   "metadata": {
    "slideshow": {
     "slide_type": "skip"
    }
   },
   "outputs": [
    {
     "name": "stdout",
     "output_type": "stream",
     "text": [
      "<class 'pandas.core.frame.DataFrame'>\n",
      "RangeIndex: 485490 entries, 0 to 485489\n",
      "Data columns (total 12 columns):\n",
      " #   Column                        Non-Null Count   Dtype  \n",
      "---  ------                        --------------   -----  \n",
      " 0   Country                       485490 non-null  object \n",
      " 1   Gender                        485490 non-null  object \n",
      " 2   Dictionary                    485490 non-null  object \n",
      " 3   Age                           485490 non-null  float64\n",
      " 4   Literature                    485490 non-null  object \n",
      " 5   Test Language                 485490 non-null  object \n",
      " 6   Formative Assessment          485490 non-null  float64\n",
      " 7   Student Orientation           485490 non-null  float64\n",
      " 8   Teacher-Directed Instruction  485490 non-null  float64\n",
      " 9   Math Score                    485490 non-null  float64\n",
      " 10  Reading Score                 485490 non-null  float64\n",
      " 11  Science Score                 485490 non-null  float64\n",
      "dtypes: float64(7), object(5)\n",
      "memory usage: 44.4+ MB\n"
     ]
    }
   ],
   "source": [
    "pisa_2012_clean.info()"
   ]
  },
  {
   "cell_type": "markdown",
   "metadata": {
    "slideshow": {
     "slide_type": "skip"
    }
   },
   "source": [
    "Our dataframe is now clean and tidy. We're ready for Exploratory Data Analysis (EDA)"
   ]
  },
  {
   "cell_type": "markdown",
   "metadata": {
    "slideshow": {
     "slide_type": "slide"
    }
   },
   "source": [
    "## Exploratory Data Analysis"
   ]
  },
  {
   "cell_type": "markdown",
   "metadata": {
    "slideshow": {
     "slide_type": "slide"
    }
   },
   "source": [
    "###  Method : Univariate Analysis"
   ]
  },
  {
   "cell_type": "markdown",
   "metadata": {
    "slideshow": {
     "slide_type": "subslide"
    }
   },
   "source": [
    "- Univariate visualization provides us summary statistics for one variable."
   ]
  },
  {
   "cell_type": "markdown",
   "metadata": {
    "slideshow": {
     "slide_type": "skip"
    }
   },
   "source": [
    "###  *How did students perform in each subject?*"
   ]
  },
  {
   "cell_type": "code",
   "execution_count": 60,
   "metadata": {
    "slideshow": {
     "slide_type": "skip"
    }
   },
   "outputs": [
    {
     "data": {
      "image/png": "[encoded data removed]",
      "text/plain": [
       "<Figure size 720x720 with 4 Axes>"
      ]
     },
     "metadata": {},
     "output_type": "display_data"
    }
   ],
   "source": [
    "# historgram gives the density of distributions from point to point in general terms.\n",
    "# we want to see the distribution of scores for each of the subject \n",
    "# we need 3 subplots as there's three subjects (Math, Reading, and Science)\n",
    "\n",
    "\n",
    "features = ['Math Score','Reading Score','Science Score']\n",
    "pisa_2012_clean[features].hist(figsize=(10, 10));\n"
   ]
  },
  {
   "cell_type": "markdown",
   "metadata": {
    "slideshow": {
     "slide_type": "skip"
    }
   },
   "source": [
    "#### Histogram Visualization Analysis\n",
    "- In each subject, scores are normally distributed (bell curve)\n",
    "- Distribution of each subject is unimodal\n",
    "- Scores between 300 and 600 in each subject saw the highest student count"
   ]
  },
  {
   "cell_type": "markdown",
   "metadata": {
    "slideshow": {
     "slide_type": "skip"
    }
   },
   "source": [
    "### *2) What was the distribution for each teacher behavior score?*"
   ]
  },
  {
   "cell_type": "code",
   "execution_count": 27,
   "metadata": {
    "slideshow": {
     "slide_type": "skip"
    }
   },
   "outputs": [
    {
     "data": {
      "image/png": "[encoded data removed]",
      "text/plain": [
       "<Figure size 936x720 with 4 Axes>"
      ]
     },
     "metadata": {
      "needs_background": "light"
     },
     "output_type": "display_data"
    }
   ],
   "source": [
    "features2 = ['Formative Assessment','Student Orientation','Teacher-Directed Instruction']\n",
    "pisa_2012_clean[features2].hist(figsize=(13, 10));\n"
   ]
  },
  {
   "cell_type": "markdown",
   "metadata": {
    "slideshow": {
     "slide_type": "skip"
    }
   },
   "source": [
    " - This is some what unimodeal but we see that on average most students scored between 0 and 1."
   ]
  },
  {
   "cell_type": "markdown",
   "metadata": {
    "slideshow": {
     "slide_type": "slide"
    }
   },
   "source": [
    "###  *About how many students were non-native speakers?*"
   ]
  },
  {
   "cell_type": "code",
   "execution_count": 38,
   "metadata": {
    "slideshow": {
     "slide_type": "subslide"
    }
   },
   "outputs": [
    {
     "data": {
      "image/png": "[encoded data removed]",
      "text/plain": [
       "<Figure size 432x288 with 1 Axes>"
      ]
     },
     "metadata": {
      "needs_background": "light"
     },
     "output_type": "display_data"
    }
   ],
   "source": [
    "#https://stackoverflow.com/questions/43549901/visualize-data-from-one-column\n",
    "labels = []\n",
    "for i, dfi in enumerate(pisa_2012_clean.groupby([\"Test Language\"])):\n",
    "    labels.append(dfi[0])\n",
    "    plt.bar(i, dfi[1].count(), label=dfi[0])\n",
    "plt.xticks(range(len(labels)), labels)\n",
    "plt.legend()\n",
    "plt.suptitle('Native & Non-Native Language Speakers Student Count', fontsize=13)\n",
    "plt.show()"
   ]
  },
  {
   "cell_type": "markdown",
   "metadata": {
    "slideshow": {
     "slide_type": "subslide"
    }
   },
   "source": [
    " - The vast majority of the test takers were native speakers as expected. And about 1.5% were non-native speakers when taking the exams."
   ]
  },
  {
   "cell_type": "markdown",
   "metadata": {
    "slideshow": {
     "slide_type": "slide"
    }
   },
   "source": [
    "###  *Which gender was more represented?*"
   ]
  },
  {
   "cell_type": "code",
   "execution_count": 39,
   "metadata": {
    "slideshow": {
     "slide_type": "subslide"
    }
   },
   "outputs": [
    {
     "data": {
      "image/png": "[encoded data removed]",
      "text/plain": [
       "<Figure size 432x288 with 1 Axes>"
      ]
     },
     "metadata": {
      "needs_background": "light"
     },
     "output_type": "display_data"
    }
   ],
   "source": [
    "#https://stackoverflow.com/questions/43549901/visualize-data-from-one-column\n",
    "labels = []\n",
    "for i, dfi in enumerate(pisa_2012_clean.groupby([\"Gender\"])):\n",
    "    labels.append(dfi[0])\n",
    "    plt.bar(i, dfi[1].count(), label=dfi[0])\n",
    "plt.xticks(range(len(labels)), labels)\n",
    "plt.legend()\n",
    "plt.suptitle('Number of Female and Male Students', fontsize=13)\n",
    "plt.show()"
   ]
  },
  {
   "cell_type": "markdown",
   "metadata": {
    "slideshow": {
     "slide_type": "subslide"
    }
   },
   "source": [
    " - Girls took the tests more than the boys but it's relatively the same!"
   ]
  },
  {
   "cell_type": "markdown",
   "metadata": {
    "slideshow": {
     "slide_type": "slide"
    }
   },
   "source": [
    "###  Method 2: Bivariate Analysis"
   ]
  },
  {
   "cell_type": "markdown",
   "metadata": {
    "slideshow": {
     "slide_type": "subslide"
    }
   },
   "source": [
    "Bivariate analysis provide us the relationship between two variables in the dataset."
   ]
  },
  {
   "cell_type": "markdown",
   "metadata": {
    "slideshow": {
     "slide_type": "slide"
    }
   },
   "source": [
    "###  *Which gender performed better in reading ?*"
   ]
  },
  {
   "cell_type": "code",
   "execution_count": 47,
   "metadata": {
    "slideshow": {
     "slide_type": "subslide"
    }
   },
   "outputs": [
    {
     "data": {
      "image/png": "[encoded data removed]",
      "text/plain": [
       "<Figure size 432x288 with 1 Axes>"
      ]
     },
     "metadata": {},
     "output_type": "display_data"
    }
   ],
   "source": [
    "import seaborn as sns\n",
    "plt.suptitle('Reading Score Distrubtion by Gender', fontsize=13)\n",
    "sns.boxplot(x = pisa_2012_clean['Reading Score'], y = pisa_2012_clean['Gender'] );"
   ]
  },
  {
   "cell_type": "markdown",
   "metadata": {
    "slideshow": {
     "slide_type": "subslide"
    }
   },
   "source": [
    " - Looking at the boxplots, we see that there's more outliers in the female on the left of the whisker. But they still outperformed their male counterparts greatly"
   ]
  },
  {
   "cell_type": "markdown",
   "metadata": {
    "slideshow": {
     "slide_type": "subslide"
    }
   },
   "source": [
    " - **Personally, I've heard that male students perform better than female students in subjects Math and Science. So I wanted to take this opporutnity to see if how female students compare to their male counterparts when it comes with Reading. Surpringsly, they outperform them by quite a margin.**"
   ]
  },
  {
   "cell_type": "markdown",
   "metadata": {
    "slideshow": {
     "slide_type": "slide"
    }
   },
   "source": [
    "### *Did students who possess dictionaries perform better in reading section?*"
   ]
  },
  {
   "cell_type": "code",
   "execution_count": 44,
   "metadata": {
    "slideshow": {
     "slide_type": "subslide"
    }
   },
   "outputs": [
    {
     "data": {
      "image/png": "[encoded data removed]",
      "text/plain": [
       "<Figure size 432x288 with 1 Axes>"
      ]
     },
     "metadata": {
      "needs_background": "light"
     },
     "output_type": "display_data"
    }
   ],
   "source": [
    "plt.suptitle('Reading Score Distribution of Dictionary Owners vs Non-Owners', fontsize=12)\n",
    "sns.boxplot(x = pisa_2012_clean['Reading Score'], y = pisa_2012_clean['Dictionary'] );"
   ]
  },
  {
   "cell_type": "markdown",
   "metadata": {
    "slideshow": {
     "slide_type": "subslide"
    }
   },
   "source": [
    " - Yes, students who possess dictionaries performed higher in reading section."
   ]
  },
  {
   "cell_type": "markdown",
   "metadata": {
    "slideshow": {
     "slide_type": "subslide"
    }
   },
   "source": [
    " - **I expected this to be the answer and it was refreshing to see how having a possession of something leads to a either advantange/disadvantage in performance.Since dictionaries do carry our words and their meanings, it makes sense that we see the plot above. Although NA isn't a variable we are looking it at since we are doing Bivariate Analysis of two variables (Reading Score and Dictionary), it was interesting to see how NA scored the lowest.I think it may perhpas have to do with just not being able to read due to lack of resources (education,finance,support, etc.) as education is an investment and there's disaprities in our education system.**"
   ]
  },
  {
   "cell_type": "markdown",
   "metadata": {
    "slideshow": {
     "slide_type": "slide"
    }
   },
   "source": [
    "### *Do students with dictionaries more likely to possess literature books?*"
   ]
  },
  {
   "cell_type": "code",
   "execution_count": 45,
   "metadata": {
    "slideshow": {
     "slide_type": "subslide"
    }
   },
   "outputs": [
    {
     "data": {
      "image/png": "[encoded data removed]",
      "text/plain": [
       "<Figure size 432x288 with 1 Axes>"
      ]
     },
     "metadata": {},
     "output_type": "display_data"
    }
   ],
   "source": [
    "#https://stackoverflow.com/questions/47809646/how-to-make-a-histogram-for-non-numeric-variables-in-python?rq=1\n",
    "\n",
    "plt.style.use('ggplot')\n",
    "\n",
    "pisa_2012_clean.groupby(['Dictionary', 'Literature'])\\\n",
    "      .Literature.count().unstack().plot.bar(legend=True)\n",
    "plt.suptitle('Dictionary Owners Who Posess Literature Books', fontsize=12)\n",
    "plt.show()"
   ]
  },
  {
   "cell_type": "markdown",
   "metadata": {
    "slideshow": {
     "slide_type": "subslide"
    }
   },
   "source": [
    " - As expected, students who possess dictionaries also possess more literatures books. And likewise, there's more students who don't possess literature books among those who don't possess dictionaries."
   ]
  },
  {
   "cell_type": "markdown",
   "metadata": {
    "slideshow": {
     "slide_type": "slide"
    }
   },
   "source": [
    "### *Which gender performed better in Math ?*"
   ]
  },
  {
   "cell_type": "code",
   "execution_count": 46,
   "metadata": {
    "slideshow": {
     "slide_type": "subslide"
    }
   },
   "outputs": [
    {
     "data": {
      "image/png": "[encoded data removed]",
      "text/plain": [
       "<Figure size 432x288 with 1 Axes>"
      ]
     },
     "metadata": {},
     "output_type": "display_data"
    }
   ],
   "source": [
    "import seaborn as sns\n",
    "plt.suptitle('Math Score Distribution by Gender', fontsize=12)\n",
    "sns.boxplot(x = pisa_2012_clean['Math Score'], y = pisa_2012_clean['Gender'] );"
   ]
  },
  {
   "cell_type": "markdown",
   "metadata": {
    "slideshow": {
     "slide_type": "subslide"
    }
   },
   "source": [
    " - Boys perfommed better than girls slightly better and we see that there's more outliers in girls pulling to the left, while for the boys, they have more outliers pulling to the right (of the whiskers). "
   ]
  },
  {
   "cell_type": "markdown",
   "metadata": {
    "slideshow": {
     "slide_type": "slide"
    }
   },
   "source": [
    "### *Which gender performed better in Science ?*"
   ]
  },
  {
   "cell_type": "code",
   "execution_count": 48,
   "metadata": {
    "slideshow": {
     "slide_type": "subslide"
    }
   },
   "outputs": [
    {
     "data": {
      "image/png": "[encoded data removed]",
      "text/plain": [
       "<Figure size 432x288 with 1 Axes>"
      ]
     },
     "metadata": {},
     "output_type": "display_data"
    }
   ],
   "source": [
    "import seaborn as sns\n",
    "plt.suptitle('Science Score Distribution by Gender', fontsize=12)\n",
    "sns.boxplot(x = pisa_2012_clean['Science Score'], y = pisa_2012_clean['Gender'] );"
   ]
  },
  {
   "cell_type": "markdown",
   "metadata": {
    "slideshow": {
     "slide_type": "subslide"
    }
   },
   "source": [
    " - By looking at the median of the boxes they scored just about the same. "
   ]
  },
  {
   "cell_type": "markdown",
   "metadata": {
    "slideshow": {
     "slide_type": "slide"
    }
   },
   "source": [
    "### *How did non native speakers perform compared to non-native speakers, in Reading section ?*"
   ]
  },
  {
   "cell_type": "code",
   "execution_count": 49,
   "metadata": {
    "slideshow": {
     "slide_type": "subslide"
    }
   },
   "outputs": [
    {
     "data": {
      "image/png": "[encoded data removed]",
      "text/plain": [
       "<Figure size 432x288 with 1 Axes>"
      ]
     },
     "metadata": {},
     "output_type": "display_data"
    }
   ],
   "source": [
    "import seaborn as sns\n",
    "plt.suptitle('Reading Score Distribution of Non-Native Speakers', fontsize=12)\n",
    "sns.boxplot(x = pisa_2012_clean['Reading Score'], y = pisa_2012_clean['Test Language'] );"
   ]
  },
  {
   "cell_type": "markdown",
   "metadata": {
    "slideshow": {
     "slide_type": "subslide"
    }
   },
   "source": [
    " - Non-native speakers performed a little below than their counterparts in the Reading Section. This is very interesting to see. "
   ]
  },
  {
   "cell_type": "markdown",
   "metadata": {
    "slideshow": {
     "slide_type": "slide"
    }
   },
   "source": [
    "### Method : Multivariate Analysis"
   ]
  },
  {
   "cell_type": "markdown",
   "metadata": {
    "slideshow": {
     "slide_type": "slide"
    }
   },
   "source": [
    "### *What's the correlation between the three teacher behavior measurements?*"
   ]
  },
  {
   "cell_type": "code",
   "execution_count": 54,
   "metadata": {
    "slideshow": {
     "slide_type": "subslide"
    }
   },
   "outputs": [
    {
     "data": {
      "image/png": "[encoded data removed]",
      "text/plain": [
       "<Figure size 432x288 with 2 Axes>"
      ]
     },
     "metadata": {},
     "output_type": "display_data"
    }
   ],
   "source": [
    "#https://datatofish.com/correlation-matrix-pandas/\n",
    "\n",
    "df_1 = pd.DataFrame(pisa_2012_clean,columns=['Formative Assessment','Student Orientation','Teacher-Directed Instruction'])\n",
    "corrMatrix = df_1.corr()\n",
    "sns.heatmap(corrMatrix, annot=True)\n",
    "plt.suptitle('Correlation of the Three Teacher Behavior Scores', fontsize=12)\n",
    "plt.show()"
   ]
  },
  {
   "cell_type": "markdown",
   "metadata": {
    "slideshow": {
     "slide_type": "subslide"
    }
   },
   "source": [
    " - **We see that Formative Assessment and Teacher-Directed Instruction have the highest correlation. It makes sense because Formative Asessment include things like diagnostic tests which are conducted by teachers. And Teacher-Directed Instruction goes with that notion where students are instructed to take exams/tests, etc.**"
   ]
  },
  {
   "cell_type": "markdown",
   "metadata": {
    "slideshow": {
     "slide_type": "slide"
    }
   },
   "source": [
    "### *What's the correlation between the three subject scores?*"
   ]
  },
  {
   "cell_type": "code",
   "execution_count": 55,
   "metadata": {
    "slideshow": {
     "slide_type": "subslide"
    }
   },
   "outputs": [
    {
     "data": {
      "image/png": "[encoded data removed]",
      "text/plain": [
       "<Figure size 432x288 with 2 Axes>"
      ]
     },
     "metadata": {},
     "output_type": "display_data"
    }
   ],
   "source": [
    "df_2 = pd.DataFrame(pisa_2012_clean,columns=['Math Score','Reading Score','Science Score'])\n",
    "corrMatrix = df_2.corr()\n",
    "sns.heatmap(corrMatrix, annot=True)\n",
    "plt.suptitle('Correlation of the Three Test Subject Scores', fontsize=12)\n",
    "plt.show()"
   ]
  },
  {
   "cell_type": "markdown",
   "metadata": {
    "slideshow": {
     "slide_type": "subslide"
    }
   },
   "source": [
    "- **We can see that the correlation coefficient between Science Score and Math Score is the highest, and this is something that most people may already know. Further, Reading Score and Math Score had the lowest correlation out of the three, possibly explaning the phenomenon how some people are analytical while others are more creative.**"
   ]
  },
  {
   "cell_type": "markdown",
   "metadata": {
    "slideshow": {
     "slide_type": "slide"
    }
   },
   "source": [
    "### *What's the correlation between Age, Science Score, and Formative Assessment?*"
   ]
  },
  {
   "cell_type": "code",
   "execution_count": 56,
   "metadata": {
    "slideshow": {
     "slide_type": "subslide"
    }
   },
   "outputs": [
    {
     "data": {
      "image/png": "[encoded data removed]",
      "text/plain": [
       "<Figure size 432x288 with 2 Axes>"
      ]
     },
     "metadata": {},
     "output_type": "display_data"
    }
   ],
   "source": [
    "df_3 = pd.DataFrame(pisa_2012_clean,columns=['Age','Science Score','Formative Assessment'])\n",
    "corrMatrix = df_3.corr()\n",
    "sns.heatmap(corrMatrix, annot=True)\n",
    "plt.suptitle('Correlation of Age, Science Score, and Formative Assessment', fontsize=12)\n",
    "plt.show()"
   ]
  },
  {
   "cell_type": "markdown",
   "metadata": {
    "slideshow": {
     "slide_type": "subslide"
    }
   },
   "source": [
    " - As we expected, this is the lowest correlation matrix we've seen. It's a mixture of Age which isn't a score, and two scores that's not related. One is a test score which a student earns and the other is measurement of Teacher Behavior which student is instructed with."
   ]
  }
 ],
 "metadata": {
  "celltoolbar": "Slideshow",
  "kernelspec": {
   "display_name": "Python 3",
   "language": "python",
   "name": "python3"
  },
  "language_info": {
   "codemirror_mode": {
    "name": "ipython",
    "version": 3
   },
   "file_extension": ".py",
   "mimetype": "text/x-python",
   "name": "python",
   "nbconvert_exporter": "python",
   "pygments_lexer": "ipython3",
   "version": "3.7.6"
  }
 },
 "nbformat": 4,
 "nbformat_minor": 2
}
